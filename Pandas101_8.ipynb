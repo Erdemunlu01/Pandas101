{
 "cells": [
  {
   "cell_type": "markdown",
   "id": "76e76411-97b5-49a3-b573-0490a664a982",
   "metadata": {},
   "source": [
    "# PYTHON PANDAS PART 9"
   ]
  },
  {
   "cell_type": "markdown",
   "id": "bb9dfbad-83d9-41d1-b509-d9562a4c4147",
   "metadata": {},
   "source": [
    "## Time Series Basics"
   ]
  },
  {
   "cell_type": "code",
   "execution_count": 1,
   "id": "ad536d17-e52f-4851-953a-07c551492362",
   "metadata": {},
   "outputs": [],
   "source": [
    "import pandas as pd; import numpy as np\n",
    "from datetime import datetime"
   ]
  },
  {
   "cell_type": "code",
   "execution_count": 2,
   "id": "0b8baf5e-e06b-4994-ae94-667f66013563",
   "metadata": {},
   "outputs": [],
   "source": [
    "date = [datetime(2020,1,5),\n",
    "        datetime(2020,1,10),\n",
    "        datetime(2020,1,15),\n",
    "        datetime(2020,1,20),\n",
    "        datetime(2020,1,25)]"
   ]
  },
  {
   "cell_type": "code",
   "execution_count": 5,
   "id": "8e56f94a-f1ec-4092-b948-05db54762c6e",
   "metadata": {},
   "outputs": [
    {
     "data": {
      "text/plain": [
       "2020-01-05   -1.177320\n",
       "2020-01-10   -0.298087\n",
       "2020-01-15    1.037609\n",
       "2020-01-20   -0.751326\n",
       "2020-01-25   -0.598248\n",
       "dtype: float64"
      ]
     },
     "execution_count": 5,
     "metadata": {},
     "output_type": "execute_result"
    }
   ],
   "source": [
    "ts = pd.Series(np.random.randn(5), index = date)\n",
    "ts"
   ]
  },
  {
   "cell_type": "code",
   "execution_count": 6,
   "id": "7b02ca59-51c7-4d2e-8209-541ad1718928",
   "metadata": {},
   "outputs": [
    {
     "data": {
      "text/plain": [
       "DatetimeIndex(['2020-01-05', '2020-01-10', '2020-01-15', '2020-01-20',\n",
       "               '2020-01-25'],\n",
       "              dtype='datetime64[ns]', freq=None)"
      ]
     },
     "execution_count": 6,
     "metadata": {},
     "output_type": "execute_result"
    }
   ],
   "source": [
    "ts.index"
   ]
  },
  {
   "cell_type": "code",
   "execution_count": 7,
   "id": "d8b7af52-8629-4b78-bc9c-6d01192342ee",
   "metadata": {},
   "outputs": [
    {
     "data": {
      "text/plain": [
       "Timestamp('2025-01-01 00:00:00')"
      ]
     },
     "execution_count": 7,
     "metadata": {},
     "output_type": "execute_result"
    }
   ],
   "source": [
    "pd.to_datetime(\"01/01/2025\")"
   ]
  },
  {
   "cell_type": "code",
   "execution_count": 8,
   "id": "381aabea-7a5d-47aa-8f5c-8329a2839578",
   "metadata": {},
   "outputs": [
    {
     "data": {
      "text/plain": [
       "DatetimeIndex(['2025-01-01', '2024-07-06', '2024-07-07', '2025-01-01'], dtype='datetime64[ns]', freq=None)"
      ]
     },
     "execution_count": 8,
     "metadata": {},
     "output_type": "execute_result"
    }
   ],
   "source": [
    "dates = pd.to_datetime([datetime(2025,1,1),\n",
    "                        \"6th of July, 2024\",\n",
    "                        \"2024-Jul-07\",\n",
    "                        \"20250101\"]\n",
    "                      )\n",
    "dates"
   ]
  },
  {
   "cell_type": "code",
   "execution_count": 9,
   "id": "404f6144-d730-4f7b-b2d1-66a9f243f247",
   "metadata": {},
   "outputs": [
    {
     "data": {
      "text/plain": [
       "PeriodIndex(['2025-01-01', '2024-07-06', '2024-07-07', '2025-01-01'], dtype='period[D]')"
      ]
     },
     "execution_count": 9,
     "metadata": {},
     "output_type": "execute_result"
    }
   ],
   "source": [
    "dates.to_period(\"D\")"
   ]
  },
  {
   "cell_type": "code",
   "execution_count": 10,
   "id": "b93e62d1-d308-4876-9f12-d4d92126fee4",
   "metadata": {},
   "outputs": [
    {
     "data": {
      "text/plain": [
       "TimedeltaIndex(['0 days', '-179 days', '-178 days', '0 days'], dtype='timedelta64[ns]', freq=None)"
      ]
     },
     "execution_count": 10,
     "metadata": {},
     "output_type": "execute_result"
    }
   ],
   "source": [
    "dates - dates[0]"
   ]
  },
  {
   "cell_type": "code",
   "execution_count": 12,
   "id": "b290f972-4821-4b9d-a843-f6000b6e885f",
   "metadata": {},
   "outputs": [
    {
     "data": {
      "text/plain": [
       "DatetimeIndex(['2024-12-01', '2024-12-02', '2024-12-03', '2024-12-04',\n",
       "               '2024-12-05', '2024-12-06', '2024-12-07', '2024-12-08',\n",
       "               '2024-12-09', '2024-12-10', '2024-12-11', '2024-12-12',\n",
       "               '2024-12-13', '2024-12-14', '2024-12-15', '2024-12-16',\n",
       "               '2024-12-17', '2024-12-18', '2024-12-19', '2024-12-20',\n",
       "               '2024-12-21', '2024-12-22', '2024-12-23', '2024-12-24',\n",
       "               '2024-12-25', '2024-12-26', '2024-12-27', '2024-12-28',\n",
       "               '2024-12-29', '2024-12-30', '2024-12-31'],\n",
       "              dtype='datetime64[ns]', freq='D')"
      ]
     },
     "execution_count": 12,
     "metadata": {},
     "output_type": "execute_result"
    }
   ],
   "source": [
    "pd.date_range(\"2024-12-01\",\"2024-12-31\")"
   ]
  },
  {
   "cell_type": "code",
   "execution_count": 14,
   "id": "98e7dbf9-447e-4bad-aa62-3a5463bcef89",
   "metadata": {},
   "outputs": [
    {
     "data": {
      "text/plain": [
       "DatetimeIndex(['2024-12-01', '2024-12-02', '2024-12-03', '2024-12-04',\n",
       "               '2024-12-05', '2024-12-06', '2024-12-07', '2024-12-08',\n",
       "               '2024-12-09', '2024-12-10'],\n",
       "              dtype='datetime64[ns]', freq='D')"
      ]
     },
     "execution_count": 14,
     "metadata": {},
     "output_type": "execute_result"
    }
   ],
   "source": [
    "pd.date_range(\"2024-12-01\",periods = 10)"
   ]
  },
  {
   "cell_type": "code",
   "execution_count": 16,
   "id": "21bd6ac9-559f-45a6-811b-847b26570595",
   "metadata": {},
   "outputs": [
    {
     "data": {
      "text/plain": [
       "DatetimeIndex(['2024-12-01 00:00:00', '2024-12-01 01:00:00',\n",
       "               '2024-12-01 02:00:00', '2024-12-01 03:00:00',\n",
       "               '2024-12-01 04:00:00', '2024-12-01 05:00:00',\n",
       "               '2024-12-01 06:00:00', '2024-12-01 07:00:00',\n",
       "               '2024-12-01 08:00:00', '2024-12-01 09:00:00'],\n",
       "              dtype='datetime64[ns]', freq='H')"
      ]
     },
     "execution_count": 16,
     "metadata": {},
     "output_type": "execute_result"
    }
   ],
   "source": [
    "pd.date_range(\"2024-12-01\",periods = 10, freq = \"H\")"
   ]
  },
  {
   "cell_type": "code",
   "execution_count": 17,
   "id": "c5c4a9af-7132-4796-b4a5-e535b992e3da",
   "metadata": {},
   "outputs": [
    {
     "data": {
      "text/plain": [
       "PeriodIndex(['2024-12-01 00:00', '2024-12-01 01:00', '2024-12-01 02:00',\n",
       "             '2024-12-01 03:00', '2024-12-01 04:00', '2024-12-01 05:00',\n",
       "             '2024-12-01 06:00', '2024-12-01 07:00', '2024-12-01 08:00',\n",
       "             '2024-12-01 09:00'],\n",
       "            dtype='period[H]')"
      ]
     },
     "execution_count": 17,
     "metadata": {},
     "output_type": "execute_result"
    }
   ],
   "source": [
    "pd.period_range(\"2024-12-01\",periods = 10, freq = \"H\")"
   ]
  },
  {
   "cell_type": "code",
   "execution_count": 18,
   "id": "ec029159-8266-4215-a29b-1609923cee85",
   "metadata": {},
   "outputs": [
    {
     "data": {
      "text/plain": [
       "PeriodIndex(['2024-12', '2025-01', '2025-02', '2025-03', '2025-04', '2025-05',\n",
       "             '2025-06', '2025-07', '2025-08', '2025-09'],\n",
       "            dtype='period[M]')"
      ]
     },
     "execution_count": 18,
     "metadata": {},
     "output_type": "execute_result"
    }
   ],
   "source": [
    "pd.period_range(\"2024-12-01\",periods = 10, freq = \"M\")"
   ]
  },
  {
   "cell_type": "code",
   "execution_count": 19,
   "id": "985b8d97-6ea1-44a2-ad1c-3a3321c2ec96",
   "metadata": {},
   "outputs": [
    {
     "data": {
      "text/plain": [
       "TimedeltaIndex(['0 days 00:00:00', '0 days 01:00:00', '0 days 02:00:00',\n",
       "                '0 days 03:00:00', '0 days 04:00:00', '0 days 05:00:00',\n",
       "                '0 days 06:00:00', '0 days 07:00:00'],\n",
       "               dtype='timedelta64[ns]', freq='H')"
      ]
     },
     "execution_count": 19,
     "metadata": {},
     "output_type": "execute_result"
    }
   ],
   "source": [
    "pd.timedelta_range(0,periods = 8, freq = \"H\")"
   ]
  },
  {
   "cell_type": "code",
   "execution_count": 20,
   "id": "2b320b20-9e30-4c53-ad36-95948f4b0b7b",
   "metadata": {},
   "outputs": [
    {
     "data": {
      "text/plain": [
       "2020-01-05   -1.177320\n",
       "2020-01-10   -0.298087\n",
       "2020-01-15    1.037609\n",
       "2020-01-20   -0.751326\n",
       "2020-01-25   -0.598248\n",
       "dtype: float64"
      ]
     },
     "execution_count": 20,
     "metadata": {},
     "output_type": "execute_result"
    }
   ],
   "source": [
    "ts"
   ]
  },
  {
   "cell_type": "code",
   "execution_count": 21,
   "id": "c844b70b-136a-4edc-a96b-216256964dfc",
   "metadata": {},
   "outputs": [
    {
     "data": {
      "text/plain": [
       "Timestamp('2020-01-10 00:00:00')"
      ]
     },
     "execution_count": 21,
     "metadata": {},
     "output_type": "execute_result"
    }
   ],
   "source": [
    "label = ts.index[1]\n",
    "label"
   ]
  },
  {
   "cell_type": "code",
   "execution_count": 23,
   "id": "1fbba45e-39ac-4c29-9fcd-b8dda26cedc5",
   "metadata": {},
   "outputs": [
    {
     "data": {
      "text/plain": [
       "-0.29808742387047293"
      ]
     },
     "execution_count": 23,
     "metadata": {},
     "output_type": "execute_result"
    }
   ],
   "source": [
    "ts[label]"
   ]
  },
  {
   "cell_type": "code",
   "execution_count": 24,
   "id": "6fa4200d-19e7-47cf-99bd-f7183e80139d",
   "metadata": {},
   "outputs": [
    {
     "data": {
      "text/plain": [
       "-0.29808742387047293"
      ]
     },
     "execution_count": 24,
     "metadata": {},
     "output_type": "execute_result"
    }
   ],
   "source": [
    "ts[\"2020-01-10\"]"
   ]
  },
  {
   "cell_type": "code",
   "execution_count": 25,
   "id": "3b5759b7-00f8-4cf9-87b1-05ad215ffca8",
   "metadata": {},
   "outputs": [
    {
     "data": {
      "text/plain": [
       "-0.29808742387047293"
      ]
     },
     "execution_count": 25,
     "metadata": {},
     "output_type": "execute_result"
    }
   ],
   "source": [
    "ts[\"20200110\"]"
   ]
  },
  {
   "cell_type": "code",
   "execution_count": 26,
   "id": "c61cbfbc-79f4-4cf6-b550-203c8f8bd7bb",
   "metadata": {},
   "outputs": [
    {
     "data": {
      "text/plain": [
       "2021-01-01   -0.845975\n",
       "2021-01-02   -1.531592\n",
       "2021-01-03    0.871917\n",
       "2021-01-04    1.581212\n",
       "2021-01-05    1.974605\n",
       "Freq: D, dtype: float64"
      ]
     },
     "execution_count": 26,
     "metadata": {},
     "output_type": "execute_result"
    }
   ],
   "source": [
    "long_ts = pd.Series(np.random.randn(1000), index = pd.date_range(\"1/1/2021\", periods=1000))\n",
    "long_ts.head()"
   ]
  },
  {
   "cell_type": "code",
   "execution_count": 28,
   "id": "187818ee-0d79-4516-bbc6-16366f22fbde",
   "metadata": {},
   "outputs": [
    {
     "data": {
      "text/plain": [
       "2021-01-01   -0.845975\n",
       "2021-01-02   -1.531592\n",
       "2021-01-03    0.871917\n",
       "2021-01-04    1.581212\n",
       "2021-01-05    1.974605\n",
       "Freq: D, dtype: float64"
      ]
     },
     "execution_count": 28,
     "metadata": {},
     "output_type": "execute_result"
    }
   ],
   "source": [
    "long_ts[\"2021\"].head()"
   ]
  },
  {
   "cell_type": "code",
   "execution_count": 30,
   "id": "068fb4d4-be02-4f95-91dc-d3a6f52b095e",
   "metadata": {},
   "outputs": [
    {
     "data": {
      "text/plain": [
       "2021-10-01   -0.020420\n",
       "2021-10-02   -0.163597\n",
       "2021-10-03   -0.737819\n",
       "2021-10-04    0.316756\n",
       "2021-10-05    0.029491\n",
       "Freq: D, dtype: float64"
      ]
     },
     "execution_count": 30,
     "metadata": {},
     "output_type": "execute_result"
    }
   ],
   "source": [
    "long_ts[\"2021-10\"].head()"
   ]
  },
  {
   "cell_type": "code",
   "execution_count": 31,
   "id": "a1017029-fc39-4a0a-997a-05bd3ce344d0",
   "metadata": {},
   "outputs": [
    {
     "data": {
      "text/plain": [
       "2022-09-20   -1.889277\n",
       "2022-09-21    1.588401\n",
       "2022-09-22    1.333427\n",
       "2022-09-23   -0.951205\n",
       "2022-09-24   -0.843500\n",
       "Freq: D, dtype: float64"
      ]
     },
     "execution_count": 31,
     "metadata": {},
     "output_type": "execute_result"
    }
   ],
   "source": [
    "long_ts[datetime(2022,9,20):].head()"
   ]
  },
  {
   "cell_type": "code",
   "execution_count": 32,
   "id": "7b642ce6-8144-4d99-825b-3a66af28fbdd",
   "metadata": {},
   "outputs": [
    {
     "data": {
      "text/plain": [
       "2020-01-05   -1.177320\n",
       "2020-01-10   -0.298087\n",
       "2020-01-15    1.037609\n",
       "dtype: float64"
      ]
     },
     "execution_count": 32,
     "metadata": {},
     "output_type": "execute_result"
    }
   ],
   "source": [
    "ts.truncate(after = \"1/15/2020\")"
   ]
  },
  {
   "cell_type": "code",
   "execution_count": 33,
   "id": "5d56fbc4-4d50-43bb-8103-e61f7c75773e",
   "metadata": {},
   "outputs": [],
   "source": [
    "date = pd.date_range(\"1/1/2020\",periods=100, freq= \"W-SUN\")"
   ]
  },
  {
   "cell_type": "code",
   "execution_count": 34,
   "id": "be7fe67b-2c03-4186-be96-bd7921619d6a",
   "metadata": {},
   "outputs": [
    {
     "data": {
      "text/html": [
       "<div>\n",
       "<style scoped>\n",
       "    .dataframe tbody tr th:only-of-type {\n",
       "        vertical-align: middle;\n",
       "    }\n",
       "\n",
       "    .dataframe tbody tr th {\n",
       "        vertical-align: top;\n",
       "    }\n",
       "\n",
       "    .dataframe thead th {\n",
       "        text-align: right;\n",
       "    }\n",
       "</style>\n",
       "<table border=\"1\" class=\"dataframe\">\n",
       "  <thead>\n",
       "    <tr style=\"text-align: right;\">\n",
       "      <th></th>\n",
       "      <th>A</th>\n",
       "      <th>B</th>\n",
       "      <th>C</th>\n",
       "      <th>D</th>\n",
       "    </tr>\n",
       "  </thead>\n",
       "  <tbody>\n",
       "    <tr>\n",
       "      <th>2020-01-05</th>\n",
       "      <td>-0.951289</td>\n",
       "      <td>0.460021</td>\n",
       "      <td>-1.060237</td>\n",
       "      <td>1.607284</td>\n",
       "    </tr>\n",
       "    <tr>\n",
       "      <th>2020-01-12</th>\n",
       "      <td>-1.430099</td>\n",
       "      <td>-1.041233</td>\n",
       "      <td>0.140350</td>\n",
       "      <td>-0.114882</td>\n",
       "    </tr>\n",
       "    <tr>\n",
       "      <th>2020-01-19</th>\n",
       "      <td>-0.918623</td>\n",
       "      <td>0.333403</td>\n",
       "      <td>-0.046167</td>\n",
       "      <td>1.038533</td>\n",
       "    </tr>\n",
       "    <tr>\n",
       "      <th>2020-01-26</th>\n",
       "      <td>0.776272</td>\n",
       "      <td>1.320620</td>\n",
       "      <td>-0.287380</td>\n",
       "      <td>-1.887910</td>\n",
       "    </tr>\n",
       "    <tr>\n",
       "      <th>2020-02-02</th>\n",
       "      <td>1.001579</td>\n",
       "      <td>-0.133474</td>\n",
       "      <td>0.798496</td>\n",
       "      <td>0.182121</td>\n",
       "    </tr>\n",
       "  </tbody>\n",
       "</table>\n",
       "</div>"
      ],
      "text/plain": [
       "                   A         B         C         D\n",
       "2020-01-05 -0.951289  0.460021 -1.060237  1.607284\n",
       "2020-01-12 -1.430099 -1.041233  0.140350 -0.114882\n",
       "2020-01-19 -0.918623  0.333403 -0.046167  1.038533\n",
       "2020-01-26  0.776272  1.320620 -0.287380 -1.887910\n",
       "2020-02-02  1.001579 -0.133474  0.798496  0.182121"
      ]
     },
     "execution_count": 34,
     "metadata": {},
     "output_type": "execute_result"
    }
   ],
   "source": [
    "df = pd.DataFrame(np.random.randn(100,4),\n",
    "                  index = date,\n",
    "                  columns = list(\"ABCD\")\n",
    "                 )\n",
    "df.head()"
   ]
  },
  {
   "cell_type": "code",
   "execution_count": 35,
   "id": "e4d84b90-c881-4a1e-93da-5071434dd052",
   "metadata": {},
   "outputs": [
    {
     "name": "stderr",
     "output_type": "stream",
     "text": [
      "C:\\Users\\erdem\\AppData\\Local\\Temp\\ipykernel_8956\\1915643711.py:1: FutureWarning: Indexing a DataFrame with a datetimelike index using a single string to slice the rows, like `frame[string]`, is deprecated and will be removed in a future version. Use `frame.loc[string]` instead.\n",
      "  df[\"2020-10\"]\n"
     ]
    },
    {
     "data": {
      "text/html": [
       "<div>\n",
       "<style scoped>\n",
       "    .dataframe tbody tr th:only-of-type {\n",
       "        vertical-align: middle;\n",
       "    }\n",
       "\n",
       "    .dataframe tbody tr th {\n",
       "        vertical-align: top;\n",
       "    }\n",
       "\n",
       "    .dataframe thead th {\n",
       "        text-align: right;\n",
       "    }\n",
       "</style>\n",
       "<table border=\"1\" class=\"dataframe\">\n",
       "  <thead>\n",
       "    <tr style=\"text-align: right;\">\n",
       "      <th></th>\n",
       "      <th>A</th>\n",
       "      <th>B</th>\n",
       "      <th>C</th>\n",
       "      <th>D</th>\n",
       "    </tr>\n",
       "  </thead>\n",
       "  <tbody>\n",
       "    <tr>\n",
       "      <th>2020-10-04</th>\n",
       "      <td>-0.058719</td>\n",
       "      <td>-0.596329</td>\n",
       "      <td>1.571872</td>\n",
       "      <td>0.889146</td>\n",
       "    </tr>\n",
       "    <tr>\n",
       "      <th>2020-10-11</th>\n",
       "      <td>0.641446</td>\n",
       "      <td>-1.307136</td>\n",
       "      <td>-1.424992</td>\n",
       "      <td>0.136814</td>\n",
       "    </tr>\n",
       "    <tr>\n",
       "      <th>2020-10-18</th>\n",
       "      <td>0.727384</td>\n",
       "      <td>-1.722772</td>\n",
       "      <td>0.553071</td>\n",
       "      <td>-0.185495</td>\n",
       "    </tr>\n",
       "    <tr>\n",
       "      <th>2020-10-25</th>\n",
       "      <td>-0.386485</td>\n",
       "      <td>-0.221243</td>\n",
       "      <td>0.547323</td>\n",
       "      <td>-2.999097</td>\n",
       "    </tr>\n",
       "  </tbody>\n",
       "</table>\n",
       "</div>"
      ],
      "text/plain": [
       "                   A         B         C         D\n",
       "2020-10-04 -0.058719 -0.596329  1.571872  0.889146\n",
       "2020-10-11  0.641446 -1.307136 -1.424992  0.136814\n",
       "2020-10-18  0.727384 -1.722772  0.553071 -0.185495\n",
       "2020-10-25 -0.386485 -0.221243  0.547323 -2.999097"
      ]
     },
     "execution_count": 35,
     "metadata": {},
     "output_type": "execute_result"
    }
   ],
   "source": [
    "df[\"2020-10\"]"
   ]
  },
  {
   "cell_type": "code",
   "execution_count": 36,
   "id": "3be7b621-efd3-4513-806e-9616d821706d",
   "metadata": {},
   "outputs": [
    {
     "data": {
      "text/plain": [
       "2020-01-01   -0.608256\n",
       "2020-01-02   -0.517885\n",
       "2020-01-02   -0.304603\n",
       "2020-01-02   -0.941533\n",
       "2020-01-03    1.396495\n",
       "dtype: float64"
      ]
     },
     "execution_count": 36,
     "metadata": {},
     "output_type": "execute_result"
    }
   ],
   "source": [
    "date = pd.DatetimeIndex([\"1/1/2020\",\n",
    "                         \"1/2/2020\",\n",
    "                         \"1/2/2020\",\n",
    "                         \"1/2/2020\",\n",
    "                         \"1/3/2020\"])\n",
    "ts1 = pd.Series(np.random.randn(5), index = date)\n",
    "ts1"
   ]
  },
  {
   "cell_type": "code",
   "execution_count": 37,
   "id": "c2d4f2c1-ee22-40b7-9ea6-cc89cae5863e",
   "metadata": {},
   "outputs": [
    {
     "data": {
      "text/plain": [
       "False"
      ]
     },
     "execution_count": 37,
     "metadata": {},
     "output_type": "execute_result"
    }
   ],
   "source": [
    "ts1.index.is_unique"
   ]
  },
  {
   "cell_type": "code",
   "execution_count": 38,
   "id": "cd8027d7-23bf-4834-9bcb-f06cc011a229",
   "metadata": {},
   "outputs": [],
   "source": [
    "group = ts1.groupby(level = 0)"
   ]
  },
  {
   "cell_type": "code",
   "execution_count": 39,
   "id": "7c558357-26dd-4399-ba25-0dc6b06b206e",
   "metadata": {},
   "outputs": [
    {
     "data": {
      "text/plain": [
       "2020-01-01    1\n",
       "2020-01-02    3\n",
       "2020-01-03    1\n",
       "dtype: int64"
      ]
     },
     "execution_count": 39,
     "metadata": {},
     "output_type": "execute_result"
    }
   ],
   "source": [
    "group.count()"
   ]
  },
  {
   "cell_type": "code",
   "execution_count": 40,
   "id": "17c42649-05b8-4ee3-aaab-7e1f4313e355",
   "metadata": {},
   "outputs": [
    {
     "data": {
      "text/plain": [
       "2020-01-01   -0.608256\n",
       "2020-01-02   -0.588007\n",
       "2020-01-03    1.396495\n",
       "dtype: float64"
      ]
     },
     "execution_count": 40,
     "metadata": {},
     "output_type": "execute_result"
    }
   ],
   "source": [
    "group.mean()"
   ]
  },
  {
   "cell_type": "markdown",
   "id": "6174cc96-d69b-4b95-a7cb-b9f22d6ccdb0",
   "metadata": {},
   "source": [
    "## Work with Index"
   ]
  },
  {
   "cell_type": "code",
   "execution_count": 41,
   "id": "4ebc135c-0e71-4a39-a7c6-087804a8ea02",
   "metadata": {},
   "outputs": [],
   "source": [
    "rng = pd.date_range(start = \"2018\", end= \"2019\", freq= \"BM\")"
   ]
  },
  {
   "cell_type": "code",
   "execution_count": 42,
   "id": "418c1660-1784-49d7-89af-cdbc1b691135",
   "metadata": {},
   "outputs": [
    {
     "data": {
      "text/plain": [
       "2018-01-31    0.915534\n",
       "2018-02-28    1.495538\n",
       "2018-03-30   -0.516979\n",
       "2018-04-30    0.217952\n",
       "2018-05-31    0.755084\n",
       "2018-06-29   -2.553203\n",
       "2018-07-31   -2.158305\n",
       "2018-08-31   -0.475721\n",
       "2018-09-28    1.294977\n",
       "2018-10-31   -0.155504\n",
       "2018-11-30    0.629417\n",
       "2018-12-31   -1.011098\n",
       "Freq: BM, dtype: float64"
      ]
     },
     "execution_count": 42,
     "metadata": {},
     "output_type": "execute_result"
    }
   ],
   "source": [
    "ts = pd.Series(np.random.randn(len(rng)), index = rng)\n",
    "ts"
   ]
  },
  {
   "cell_type": "code",
   "execution_count": 43,
   "id": "e1ee97b2-370f-4da6-be31-538f6be3506b",
   "metadata": {},
   "outputs": [
    {
     "data": {
      "text/plain": [
       "DatetimeIndex(['2018-01-31', '2018-02-28', '2018-03-30', '2018-04-30',\n",
       "               '2018-05-31', '2018-06-29', '2018-07-31', '2018-08-31',\n",
       "               '2018-09-28', '2018-10-31', '2018-11-30', '2018-12-31'],\n",
       "              dtype='datetime64[ns]', freq='BM')"
      ]
     },
     "execution_count": 43,
     "metadata": {},
     "output_type": "execute_result"
    }
   ],
   "source": [
    "ts.index"
   ]
  },
  {
   "cell_type": "code",
   "execution_count": 44,
   "id": "f4661f42-5667-44a9-a7c6-29cfe1cf7fbd",
   "metadata": {},
   "outputs": [
    {
     "data": {
      "text/plain": [
       "2018-01-31    0.915534\n",
       "2018-02-28    1.495538\n",
       "2018-03-30   -0.516979\n",
       "2018-04-30    0.217952\n",
       "2018-05-31    0.755084\n",
       "Freq: BM, dtype: float64"
      ]
     },
     "execution_count": 44,
     "metadata": {},
     "output_type": "execute_result"
    }
   ],
   "source": [
    "ts[:5]"
   ]
  },
  {
   "cell_type": "code",
   "execution_count": 49,
   "id": "2cbb439b-6ca7-4516-8f09-a3ca2bc55589",
   "metadata": {},
   "outputs": [
    {
     "data": {
      "text/html": [
       "<div>\n",
       "<style scoped>\n",
       "    .dataframe tbody tr th:only-of-type {\n",
       "        vertical-align: middle;\n",
       "    }\n",
       "\n",
       "    .dataframe tbody tr th {\n",
       "        vertical-align: top;\n",
       "    }\n",
       "\n",
       "    .dataframe thead th {\n",
       "        text-align: right;\n",
       "    }\n",
       "</style>\n",
       "<table border=\"1\" class=\"dataframe\">\n",
       "  <thead>\n",
       "    <tr style=\"text-align: right;\">\n",
       "      <th></th>\n",
       "      <th>Open</th>\n",
       "      <th>High</th>\n",
       "      <th>Low</th>\n",
       "      <th>Close</th>\n",
       "      <th>Adj Close</th>\n",
       "      <th>Volume</th>\n",
       "    </tr>\n",
       "    <tr>\n",
       "      <th>Date</th>\n",
       "      <th></th>\n",
       "      <th></th>\n",
       "      <th></th>\n",
       "      <th></th>\n",
       "      <th></th>\n",
       "      <th></th>\n",
       "    </tr>\n",
       "  </thead>\n",
       "  <tbody>\n",
       "    <tr>\n",
       "      <th>2012-05-18</th>\n",
       "      <td>42.049999</td>\n",
       "      <td>45.000000</td>\n",
       "      <td>38.000000</td>\n",
       "      <td>38.230000</td>\n",
       "      <td>38.230000</td>\n",
       "      <td>573576400</td>\n",
       "    </tr>\n",
       "    <tr>\n",
       "      <th>2012-05-21</th>\n",
       "      <td>36.529999</td>\n",
       "      <td>36.660000</td>\n",
       "      <td>33.000000</td>\n",
       "      <td>34.029999</td>\n",
       "      <td>34.029999</td>\n",
       "      <td>168192700</td>\n",
       "    </tr>\n",
       "    <tr>\n",
       "      <th>2012-05-22</th>\n",
       "      <td>32.610001</td>\n",
       "      <td>33.590000</td>\n",
       "      <td>30.940001</td>\n",
       "      <td>31.000000</td>\n",
       "      <td>31.000000</td>\n",
       "      <td>101786600</td>\n",
       "    </tr>\n",
       "    <tr>\n",
       "      <th>2012-05-23</th>\n",
       "      <td>31.370001</td>\n",
       "      <td>32.500000</td>\n",
       "      <td>31.360001</td>\n",
       "      <td>32.000000</td>\n",
       "      <td>32.000000</td>\n",
       "      <td>73600000</td>\n",
       "    </tr>\n",
       "    <tr>\n",
       "      <th>2012-05-24</th>\n",
       "      <td>32.950001</td>\n",
       "      <td>33.209999</td>\n",
       "      <td>31.770000</td>\n",
       "      <td>33.029999</td>\n",
       "      <td>33.029999</td>\n",
       "      <td>50237200</td>\n",
       "    </tr>\n",
       "  </tbody>\n",
       "</table>\n",
       "</div>"
      ],
      "text/plain": [
       "                 Open       High        Low      Close  Adj Close     Volume\n",
       "Date                                                                        \n",
       "2012-05-18  42.049999  45.000000  38.000000  38.230000  38.230000  573576400\n",
       "2012-05-21  36.529999  36.660000  33.000000  34.029999  34.029999  168192700\n",
       "2012-05-22  32.610001  33.590000  30.940001  31.000000  31.000000  101786600\n",
       "2012-05-23  31.370001  32.500000  31.360001  32.000000  32.000000   73600000\n",
       "2012-05-24  32.950001  33.209999  31.770000  33.029999  33.029999   50237200"
      ]
     },
     "execution_count": 49,
     "metadata": {},
     "output_type": "execute_result"
    }
   ],
   "source": [
    "fb = pd.read_csv(\"C:\\\\Users\\\\erdem\\\\Desktop\\\\Data 101\\\\Pandas 101\\\\Data\\\\FB.csv\", parse_dates=[\"Date\"], index_col = \"Date\")\n",
    "fb.head()"
   ]
  },
  {
   "cell_type": "code",
   "execution_count": 50,
   "id": "4b41e58f-f19e-48ab-8f0d-416549a5f337",
   "metadata": {},
   "outputs": [
    {
     "data": {
      "text/plain": [
       "Open         float64\n",
       "High         float64\n",
       "Low          float64\n",
       "Close        float64\n",
       "Adj Close    float64\n",
       "Volume         int64\n",
       "dtype: object"
      ]
     },
     "execution_count": 50,
     "metadata": {},
     "output_type": "execute_result"
    }
   ],
   "source": [
    "fb.dtypes"
   ]
  },
  {
   "cell_type": "code",
   "execution_count": 51,
   "id": "e4f6fa13-dc39-434c-b699-42b75ed7ca0f",
   "metadata": {},
   "outputs": [
    {
     "name": "stderr",
     "output_type": "stream",
     "text": [
      "C:\\Users\\erdem\\AppData\\Local\\Temp\\ipykernel_8956\\2378186950.py:1: FutureWarning: Indexing a DataFrame with a datetimelike index using a single string to slice the rows, like `frame[string]`, is deprecated and will be removed in a future version. Use `frame.loc[string]` instead.\n",
      "  fb[\"2019-06\"]\n"
     ]
    },
    {
     "data": {
      "text/html": [
       "<div>\n",
       "<style scoped>\n",
       "    .dataframe tbody tr th:only-of-type {\n",
       "        vertical-align: middle;\n",
       "    }\n",
       "\n",
       "    .dataframe tbody tr th {\n",
       "        vertical-align: top;\n",
       "    }\n",
       "\n",
       "    .dataframe thead th {\n",
       "        text-align: right;\n",
       "    }\n",
       "</style>\n",
       "<table border=\"1\" class=\"dataframe\">\n",
       "  <thead>\n",
       "    <tr style=\"text-align: right;\">\n",
       "      <th></th>\n",
       "      <th>Open</th>\n",
       "      <th>High</th>\n",
       "      <th>Low</th>\n",
       "      <th>Close</th>\n",
       "      <th>Adj Close</th>\n",
       "      <th>Volume</th>\n",
       "    </tr>\n",
       "    <tr>\n",
       "      <th>Date</th>\n",
       "      <th></th>\n",
       "      <th></th>\n",
       "      <th></th>\n",
       "      <th></th>\n",
       "      <th></th>\n",
       "      <th></th>\n",
       "    </tr>\n",
       "  </thead>\n",
       "  <tbody>\n",
       "    <tr>\n",
       "      <th>2019-06-03</th>\n",
       "      <td>175.000000</td>\n",
       "      <td>175.050003</td>\n",
       "      <td>161.009995</td>\n",
       "      <td>164.149994</td>\n",
       "      <td>164.149994</td>\n",
       "      <td>56059600</td>\n",
       "    </tr>\n",
       "    <tr>\n",
       "      <th>2019-06-04</th>\n",
       "      <td>163.710007</td>\n",
       "      <td>168.279999</td>\n",
       "      <td>160.839996</td>\n",
       "      <td>167.500000</td>\n",
       "      <td>167.500000</td>\n",
       "      <td>46044300</td>\n",
       "    </tr>\n",
       "    <tr>\n",
       "      <th>2019-06-05</th>\n",
       "      <td>167.479996</td>\n",
       "      <td>168.720001</td>\n",
       "      <td>164.630005</td>\n",
       "      <td>168.169998</td>\n",
       "      <td>168.169998</td>\n",
       "      <td>19758300</td>\n",
       "    </tr>\n",
       "    <tr>\n",
       "      <th>2019-06-06</th>\n",
       "      <td>168.300003</td>\n",
       "      <td>169.699997</td>\n",
       "      <td>167.229996</td>\n",
       "      <td>168.330002</td>\n",
       "      <td>168.330002</td>\n",
       "      <td>12446400</td>\n",
       "    </tr>\n",
       "    <tr>\n",
       "      <th>2019-06-07</th>\n",
       "      <td>170.169998</td>\n",
       "      <td>173.869995</td>\n",
       "      <td>168.839996</td>\n",
       "      <td>173.350006</td>\n",
       "      <td>173.350006</td>\n",
       "      <td>16917300</td>\n",
       "    </tr>\n",
       "    <tr>\n",
       "      <th>2019-06-10</th>\n",
       "      <td>174.750000</td>\n",
       "      <td>177.860001</td>\n",
       "      <td>173.800003</td>\n",
       "      <td>174.820007</td>\n",
       "      <td>174.820007</td>\n",
       "      <td>14767900</td>\n",
       "    </tr>\n",
       "    <tr>\n",
       "      <th>2019-06-11</th>\n",
       "      <td>178.479996</td>\n",
       "      <td>179.979996</td>\n",
       "      <td>176.789993</td>\n",
       "      <td>178.100006</td>\n",
       "      <td>178.100006</td>\n",
       "      <td>15266600</td>\n",
       "    </tr>\n",
       "    <tr>\n",
       "      <th>2019-06-12</th>\n",
       "      <td>178.380005</td>\n",
       "      <td>179.270004</td>\n",
       "      <td>172.880005</td>\n",
       "      <td>175.039993</td>\n",
       "      <td>175.039993</td>\n",
       "      <td>17699800</td>\n",
       "    </tr>\n",
       "    <tr>\n",
       "      <th>2019-06-13</th>\n",
       "      <td>175.529999</td>\n",
       "      <td>178.029999</td>\n",
       "      <td>174.610001</td>\n",
       "      <td>177.470001</td>\n",
       "      <td>177.470001</td>\n",
       "      <td>12253600</td>\n",
       "    </tr>\n",
       "    <tr>\n",
       "      <th>2019-06-14</th>\n",
       "      <td>180.509995</td>\n",
       "      <td>181.839996</td>\n",
       "      <td>180.000000</td>\n",
       "      <td>181.330002</td>\n",
       "      <td>181.330002</td>\n",
       "      <td>16773700</td>\n",
       "    </tr>\n",
       "    <tr>\n",
       "      <th>2019-06-17</th>\n",
       "      <td>185.009995</td>\n",
       "      <td>189.500000</td>\n",
       "      <td>184.410004</td>\n",
       "      <td>189.009995</td>\n",
       "      <td>189.009995</td>\n",
       "      <td>29459900</td>\n",
       "    </tr>\n",
       "    <tr>\n",
       "      <th>2019-06-18</th>\n",
       "      <td>194.000000</td>\n",
       "      <td>194.529999</td>\n",
       "      <td>187.279999</td>\n",
       "      <td>188.470001</td>\n",
       "      <td>188.470001</td>\n",
       "      <td>37571400</td>\n",
       "    </tr>\n",
       "    <tr>\n",
       "      <th>2019-06-19</th>\n",
       "      <td>187.000000</td>\n",
       "      <td>188.100006</td>\n",
       "      <td>184.550003</td>\n",
       "      <td>187.479996</td>\n",
       "      <td>187.479996</td>\n",
       "      <td>21417100</td>\n",
       "    </tr>\n",
       "    <tr>\n",
       "      <th>2019-06-20</th>\n",
       "      <td>190.949997</td>\n",
       "      <td>191.160004</td>\n",
       "      <td>187.639999</td>\n",
       "      <td>189.529999</td>\n",
       "      <td>189.529999</td>\n",
       "      <td>14635700</td>\n",
       "    </tr>\n",
       "    <tr>\n",
       "      <th>2019-06-21</th>\n",
       "      <td>188.750000</td>\n",
       "      <td>192.000000</td>\n",
       "      <td>188.750000</td>\n",
       "      <td>191.139999</td>\n",
       "      <td>191.139999</td>\n",
       "      <td>22751200</td>\n",
       "    </tr>\n",
       "    <tr>\n",
       "      <th>2019-06-24</th>\n",
       "      <td>192.419998</td>\n",
       "      <td>193.979996</td>\n",
       "      <td>191.570007</td>\n",
       "      <td>192.600006</td>\n",
       "      <td>192.600006</td>\n",
       "      <td>15509000</td>\n",
       "    </tr>\n",
       "    <tr>\n",
       "      <th>2019-06-25</th>\n",
       "      <td>192.880005</td>\n",
       "      <td>193.139999</td>\n",
       "      <td>188.130005</td>\n",
       "      <td>188.839996</td>\n",
       "      <td>188.839996</td>\n",
       "      <td>16750300</td>\n",
       "    </tr>\n",
       "    <tr>\n",
       "      <th>2019-06-26</th>\n",
       "      <td>189.539993</td>\n",
       "      <td>190.759995</td>\n",
       "      <td>187.309998</td>\n",
       "      <td>187.660004</td>\n",
       "      <td>187.660004</td>\n",
       "      <td>12808600</td>\n",
       "    </tr>\n",
       "    <tr>\n",
       "      <th>2019-06-27</th>\n",
       "      <td>189.880005</td>\n",
       "      <td>198.880005</td>\n",
       "      <td>188.270004</td>\n",
       "      <td>189.500000</td>\n",
       "      <td>189.500000</td>\n",
       "      <td>11159000</td>\n",
       "    </tr>\n",
       "    <tr>\n",
       "      <th>2019-06-28</th>\n",
       "      <td>190.550003</td>\n",
       "      <td>193.199997</td>\n",
       "      <td>189.940002</td>\n",
       "      <td>193.000000</td>\n",
       "      <td>193.000000</td>\n",
       "      <td>16378900</td>\n",
       "    </tr>\n",
       "  </tbody>\n",
       "</table>\n",
       "</div>"
      ],
      "text/plain": [
       "                  Open        High         Low       Close   Adj Close  \\\n",
       "Date                                                                     \n",
       "2019-06-03  175.000000  175.050003  161.009995  164.149994  164.149994   \n",
       "2019-06-04  163.710007  168.279999  160.839996  167.500000  167.500000   \n",
       "2019-06-05  167.479996  168.720001  164.630005  168.169998  168.169998   \n",
       "2019-06-06  168.300003  169.699997  167.229996  168.330002  168.330002   \n",
       "2019-06-07  170.169998  173.869995  168.839996  173.350006  173.350006   \n",
       "2019-06-10  174.750000  177.860001  173.800003  174.820007  174.820007   \n",
       "2019-06-11  178.479996  179.979996  176.789993  178.100006  178.100006   \n",
       "2019-06-12  178.380005  179.270004  172.880005  175.039993  175.039993   \n",
       "2019-06-13  175.529999  178.029999  174.610001  177.470001  177.470001   \n",
       "2019-06-14  180.509995  181.839996  180.000000  181.330002  181.330002   \n",
       "2019-06-17  185.009995  189.500000  184.410004  189.009995  189.009995   \n",
       "2019-06-18  194.000000  194.529999  187.279999  188.470001  188.470001   \n",
       "2019-06-19  187.000000  188.100006  184.550003  187.479996  187.479996   \n",
       "2019-06-20  190.949997  191.160004  187.639999  189.529999  189.529999   \n",
       "2019-06-21  188.750000  192.000000  188.750000  191.139999  191.139999   \n",
       "2019-06-24  192.419998  193.979996  191.570007  192.600006  192.600006   \n",
       "2019-06-25  192.880005  193.139999  188.130005  188.839996  188.839996   \n",
       "2019-06-26  189.539993  190.759995  187.309998  187.660004  187.660004   \n",
       "2019-06-27  189.880005  198.880005  188.270004  189.500000  189.500000   \n",
       "2019-06-28  190.550003  193.199997  189.940002  193.000000  193.000000   \n",
       "\n",
       "              Volume  \n",
       "Date                  \n",
       "2019-06-03  56059600  \n",
       "2019-06-04  46044300  \n",
       "2019-06-05  19758300  \n",
       "2019-06-06  12446400  \n",
       "2019-06-07  16917300  \n",
       "2019-06-10  14767900  \n",
       "2019-06-11  15266600  \n",
       "2019-06-12  17699800  \n",
       "2019-06-13  12253600  \n",
       "2019-06-14  16773700  \n",
       "2019-06-17  29459900  \n",
       "2019-06-18  37571400  \n",
       "2019-06-19  21417100  \n",
       "2019-06-20  14635700  \n",
       "2019-06-21  22751200  \n",
       "2019-06-24  15509000  \n",
       "2019-06-25  16750300  \n",
       "2019-06-26  12808600  \n",
       "2019-06-27  11159000  \n",
       "2019-06-28  16378900  "
      ]
     },
     "execution_count": 51,
     "metadata": {},
     "output_type": "execute_result"
    }
   ],
   "source": [
    "fb[\"2019-06\"]"
   ]
  },
  {
   "cell_type": "code",
   "execution_count": 52,
   "id": "141aaa35-d7ba-4c68-b873-c4e412867060",
   "metadata": {},
   "outputs": [
    {
     "name": "stderr",
     "output_type": "stream",
     "text": [
      "C:\\Users\\erdem\\AppData\\Local\\Temp\\ipykernel_8956\\3294586724.py:1: FutureWarning: Indexing a DataFrame with a datetimelike index using a single string to slice the rows, like `frame[string]`, is deprecated and will be removed in a future version. Use `frame.loc[string]` instead.\n",
      "  fb[\"2019-06\"].Close.mean()\n"
     ]
    },
    {
     "data": {
      "text/plain": [
       "181.27450025000002"
      ]
     },
     "execution_count": 52,
     "metadata": {},
     "output_type": "execute_result"
    }
   ],
   "source": [
    "fb[\"2019-06\"].Close.mean()"
   ]
  },
  {
   "cell_type": "code",
   "execution_count": 53,
   "id": "ef425f3a-9d0d-4c95-ac1f-b3927c45ae2d",
   "metadata": {},
   "outputs": [
    {
     "data": {
      "text/html": [
       "<div>\n",
       "<style scoped>\n",
       "    .dataframe tbody tr th:only-of-type {\n",
       "        vertical-align: middle;\n",
       "    }\n",
       "\n",
       "    .dataframe tbody tr th {\n",
       "        vertical-align: top;\n",
       "    }\n",
       "\n",
       "    .dataframe thead th {\n",
       "        text-align: right;\n",
       "    }\n",
       "</style>\n",
       "<table border=\"1\" class=\"dataframe\">\n",
       "  <thead>\n",
       "    <tr style=\"text-align: right;\">\n",
       "      <th></th>\n",
       "      <th>Open</th>\n",
       "      <th>High</th>\n",
       "      <th>Low</th>\n",
       "      <th>Close</th>\n",
       "      <th>Adj Close</th>\n",
       "      <th>Volume</th>\n",
       "    </tr>\n",
       "    <tr>\n",
       "      <th>Date</th>\n",
       "      <th></th>\n",
       "      <th></th>\n",
       "      <th></th>\n",
       "      <th></th>\n",
       "      <th></th>\n",
       "      <th></th>\n",
       "    </tr>\n",
       "  </thead>\n",
       "  <tbody>\n",
       "    <tr>\n",
       "      <th>2019-06-05</th>\n",
       "      <td>167.479996</td>\n",
       "      <td>168.720001</td>\n",
       "      <td>164.630005</td>\n",
       "      <td>168.169998</td>\n",
       "      <td>168.169998</td>\n",
       "      <td>19758300</td>\n",
       "    </tr>\n",
       "    <tr>\n",
       "      <th>2019-06-06</th>\n",
       "      <td>168.300003</td>\n",
       "      <td>169.699997</td>\n",
       "      <td>167.229996</td>\n",
       "      <td>168.330002</td>\n",
       "      <td>168.330002</td>\n",
       "      <td>12446400</td>\n",
       "    </tr>\n",
       "    <tr>\n",
       "      <th>2019-06-07</th>\n",
       "      <td>170.169998</td>\n",
       "      <td>173.869995</td>\n",
       "      <td>168.839996</td>\n",
       "      <td>173.350006</td>\n",
       "      <td>173.350006</td>\n",
       "      <td>16917300</td>\n",
       "    </tr>\n",
       "    <tr>\n",
       "      <th>2019-06-10</th>\n",
       "      <td>174.750000</td>\n",
       "      <td>177.860001</td>\n",
       "      <td>173.800003</td>\n",
       "      <td>174.820007</td>\n",
       "      <td>174.820007</td>\n",
       "      <td>14767900</td>\n",
       "    </tr>\n",
       "  </tbody>\n",
       "</table>\n",
       "</div>"
      ],
      "text/plain": [
       "                  Open        High         Low       Close   Adj Close  \\\n",
       "Date                                                                     \n",
       "2019-06-05  167.479996  168.720001  164.630005  168.169998  168.169998   \n",
       "2019-06-06  168.300003  169.699997  167.229996  168.330002  168.330002   \n",
       "2019-06-07  170.169998  173.869995  168.839996  173.350006  173.350006   \n",
       "2019-06-10  174.750000  177.860001  173.800003  174.820007  174.820007   \n",
       "\n",
       "              Volume  \n",
       "Date                  \n",
       "2019-06-05  19758300  \n",
       "2019-06-06  12446400  \n",
       "2019-06-07  16917300  \n",
       "2019-06-10  14767900  "
      ]
     },
     "execution_count": 53,
     "metadata": {},
     "output_type": "execute_result"
    }
   ],
   "source": [
    "fb[\"2019-06-05\":\"2019-06-10\"]"
   ]
  },
  {
   "cell_type": "code",
   "execution_count": 54,
   "id": "73c56db5-48e1-462e-9d5e-d29e3dc2bae1",
   "metadata": {},
   "outputs": [
    {
     "data": {
      "text/plain": [
       "Timestamp('2019-07-15 00:00:00')"
      ]
     },
     "execution_count": 54,
     "metadata": {},
     "output_type": "execute_result"
    }
   ],
   "source": [
    "t = pd.to_datetime(\"7/15/2019\")\n",
    "t"
   ]
  },
  {
   "cell_type": "code",
   "execution_count": 55,
   "id": "21b9dad9-a37b-4211-beef-7bc2a5655d5f",
   "metadata": {},
   "outputs": [
    {
     "data": {
      "text/html": [
       "<div>\n",
       "<style scoped>\n",
       "    .dataframe tbody tr th:only-of-type {\n",
       "        vertical-align: middle;\n",
       "    }\n",
       "\n",
       "    .dataframe tbody tr th {\n",
       "        vertical-align: top;\n",
       "    }\n",
       "\n",
       "    .dataframe thead th {\n",
       "        text-align: right;\n",
       "    }\n",
       "</style>\n",
       "<table border=\"1\" class=\"dataframe\">\n",
       "  <thead>\n",
       "    <tr style=\"text-align: right;\">\n",
       "      <th></th>\n",
       "      <th>Open</th>\n",
       "      <th>High</th>\n",
       "      <th>Low</th>\n",
       "      <th>Close</th>\n",
       "      <th>Adj Close</th>\n",
       "      <th>Volume</th>\n",
       "    </tr>\n",
       "    <tr>\n",
       "      <th>Date</th>\n",
       "      <th></th>\n",
       "      <th></th>\n",
       "      <th></th>\n",
       "      <th></th>\n",
       "      <th></th>\n",
       "      <th></th>\n",
       "    </tr>\n",
       "  </thead>\n",
       "  <tbody>\n",
       "    <tr>\n",
       "      <th>2019-07-15</th>\n",
       "      <td>204.250000</td>\n",
       "      <td>205.330002</td>\n",
       "      <td>201.820007</td>\n",
       "      <td>203.910004</td>\n",
       "      <td>203.910004</td>\n",
       "      <td>16030300</td>\n",
       "    </tr>\n",
       "    <tr>\n",
       "      <th>2019-07-16</th>\n",
       "      <td>203.889999</td>\n",
       "      <td>205.470001</td>\n",
       "      <td>203.100006</td>\n",
       "      <td>203.839996</td>\n",
       "      <td>203.839996</td>\n",
       "      <td>12132700</td>\n",
       "    </tr>\n",
       "    <tr>\n",
       "      <th>2019-07-17</th>\n",
       "      <td>204.179993</td>\n",
       "      <td>204.360001</td>\n",
       "      <td>201.589996</td>\n",
       "      <td>201.800003</td>\n",
       "      <td>201.800003</td>\n",
       "      <td>12083700</td>\n",
       "    </tr>\n",
       "    <tr>\n",
       "      <th>2019-07-18</th>\n",
       "      <td>200.149994</td>\n",
       "      <td>202.470001</td>\n",
       "      <td>199.380005</td>\n",
       "      <td>200.779999</td>\n",
       "      <td>200.779999</td>\n",
       "      <td>11937900</td>\n",
       "    </tr>\n",
       "    <tr>\n",
       "      <th>2019-07-19</th>\n",
       "      <td>202.179993</td>\n",
       "      <td>202.330002</td>\n",
       "      <td>198.070007</td>\n",
       "      <td>198.360001</td>\n",
       "      <td>198.360001</td>\n",
       "      <td>12098300</td>\n",
       "    </tr>\n",
       "    <tr>\n",
       "      <th>...</th>\n",
       "      <td>...</td>\n",
       "      <td>...</td>\n",
       "      <td>...</td>\n",
       "      <td>...</td>\n",
       "      <td>...</td>\n",
       "      <td>...</td>\n",
       "    </tr>\n",
       "    <tr>\n",
       "      <th>2022-03-18</th>\n",
       "      <td>206.699997</td>\n",
       "      <td>216.800003</td>\n",
       "      <td>206.000000</td>\n",
       "      <td>216.490005</td>\n",
       "      <td>216.490005</td>\n",
       "      <td>52055000</td>\n",
       "    </tr>\n",
       "    <tr>\n",
       "      <th>2022-03-21</th>\n",
       "      <td>214.500000</td>\n",
       "      <td>214.710007</td>\n",
       "      <td>207.630005</td>\n",
       "      <td>211.490005</td>\n",
       "      <td>211.490005</td>\n",
       "      <td>30142300</td>\n",
       "    </tr>\n",
       "    <tr>\n",
       "      <th>2022-03-22</th>\n",
       "      <td>211.369995</td>\n",
       "      <td>219.460007</td>\n",
       "      <td>210.179993</td>\n",
       "      <td>216.649994</td>\n",
       "      <td>216.649994</td>\n",
       "      <td>31998800</td>\n",
       "    </tr>\n",
       "    <tr>\n",
       "      <th>2022-03-23</th>\n",
       "      <td>213.330002</td>\n",
       "      <td>216.800003</td>\n",
       "      <td>212.160004</td>\n",
       "      <td>213.460007</td>\n",
       "      <td>213.460007</td>\n",
       "      <td>23717300</td>\n",
       "    </tr>\n",
       "    <tr>\n",
       "      <th>2022-03-24</th>\n",
       "      <td>215.000000</td>\n",
       "      <td>220.669998</td>\n",
       "      <td>214.789993</td>\n",
       "      <td>219.570007</td>\n",
       "      <td>219.570007</td>\n",
       "      <td>31466000</td>\n",
       "    </tr>\n",
       "  </tbody>\n",
       "</table>\n",
       "<p>681 rows × 6 columns</p>\n",
       "</div>"
      ],
      "text/plain": [
       "                  Open        High         Low       Close   Adj Close  \\\n",
       "Date                                                                     \n",
       "2019-07-15  204.250000  205.330002  201.820007  203.910004  203.910004   \n",
       "2019-07-16  203.889999  205.470001  203.100006  203.839996  203.839996   \n",
       "2019-07-17  204.179993  204.360001  201.589996  201.800003  201.800003   \n",
       "2019-07-18  200.149994  202.470001  199.380005  200.779999  200.779999   \n",
       "2019-07-19  202.179993  202.330002  198.070007  198.360001  198.360001   \n",
       "...                ...         ...         ...         ...         ...   \n",
       "2022-03-18  206.699997  216.800003  206.000000  216.490005  216.490005   \n",
       "2022-03-21  214.500000  214.710007  207.630005  211.490005  211.490005   \n",
       "2022-03-22  211.369995  219.460007  210.179993  216.649994  216.649994   \n",
       "2022-03-23  213.330002  216.800003  212.160004  213.460007  213.460007   \n",
       "2022-03-24  215.000000  220.669998  214.789993  219.570007  219.570007   \n",
       "\n",
       "              Volume  \n",
       "Date                  \n",
       "2019-07-15  16030300  \n",
       "2019-07-16  12132700  \n",
       "2019-07-17  12083700  \n",
       "2019-07-18  11937900  \n",
       "2019-07-19  12098300  \n",
       "...              ...  \n",
       "2022-03-18  52055000  \n",
       "2022-03-21  30142300  \n",
       "2022-03-22  31998800  \n",
       "2022-03-23  23717300  \n",
       "2022-03-24  31466000  \n",
       "\n",
       "[681 rows x 6 columns]"
      ]
     },
     "execution_count": 55,
     "metadata": {},
     "output_type": "execute_result"
    }
   ],
   "source": [
    "fb.loc[fb.index>=t]"
   ]
  },
  {
   "cell_type": "code",
   "execution_count": 57,
   "id": "9034777d-25f0-40fe-851d-2d7dd6733513",
   "metadata": {},
   "outputs": [],
   "source": [
    "%matplotlib inline"
   ]
  },
  {
   "cell_type": "code",
   "execution_count": 58,
   "id": "39ee28f7-ffcd-4d2d-8282-d2fc8bfd1e4f",
   "metadata": {},
   "outputs": [
    {
     "data": {
      "text/plain": [
       "<Axes: xlabel='Date'>"
      ]
     },
     "execution_count": 58,
     "metadata": {},
     "output_type": "execute_result"
    },
    {
     "data": {
      "image/png": "[encoded data removed]",
      "text/plain": [
       "<Figure size 640x480 with 1 Axes>"
      ]
     },
     "metadata": {},
     "output_type": "display_data"
    }
   ],
   "source": [
    "fb.Close.plot()"
   ]
  },
  {
   "cell_type": "code",
   "execution_count": 60,
   "id": "e1504795-e45c-485a-b657-d2ed0ef0127d",
   "metadata": {},
   "outputs": [
    {
     "data": {
      "text/html": [
       "<div>\n",
       "<style scoped>\n",
       "    .dataframe tbody tr th:only-of-type {\n",
       "        vertical-align: middle;\n",
       "    }\n",
       "\n",
       "    .dataframe tbody tr th {\n",
       "        vertical-align: top;\n",
       "    }\n",
       "\n",
       "    .dataframe thead th {\n",
       "        text-align: right;\n",
       "    }\n",
       "</style>\n",
       "<table border=\"1\" class=\"dataframe\">\n",
       "  <thead>\n",
       "    <tr style=\"text-align: right;\">\n",
       "      <th></th>\n",
       "      <th>Open</th>\n",
       "      <th>High</th>\n",
       "      <th>Low</th>\n",
       "      <th>Close</th>\n",
       "      <th>Adj Close</th>\n",
       "      <th>Volume</th>\n",
       "    </tr>\n",
       "    <tr>\n",
       "      <th>Date</th>\n",
       "      <th></th>\n",
       "      <th></th>\n",
       "      <th></th>\n",
       "      <th></th>\n",
       "      <th></th>\n",
       "      <th></th>\n",
       "    </tr>\n",
       "  </thead>\n",
       "  <tbody>\n",
       "    <tr>\n",
       "      <th>2012-05-18</th>\n",
       "      <td>42.049999</td>\n",
       "      <td>45.000000</td>\n",
       "      <td>38.000000</td>\n",
       "      <td>38.230000</td>\n",
       "      <td>38.230000</td>\n",
       "      <td>573576400</td>\n",
       "    </tr>\n",
       "    <tr>\n",
       "      <th>2012-05-19</th>\n",
       "      <td>42.049999</td>\n",
       "      <td>45.000000</td>\n",
       "      <td>38.000000</td>\n",
       "      <td>38.230000</td>\n",
       "      <td>38.230000</td>\n",
       "      <td>573576400</td>\n",
       "    </tr>\n",
       "    <tr>\n",
       "      <th>2012-05-20</th>\n",
       "      <td>42.049999</td>\n",
       "      <td>45.000000</td>\n",
       "      <td>38.000000</td>\n",
       "      <td>38.230000</td>\n",
       "      <td>38.230000</td>\n",
       "      <td>573576400</td>\n",
       "    </tr>\n",
       "    <tr>\n",
       "      <th>2012-05-21</th>\n",
       "      <td>36.529999</td>\n",
       "      <td>36.660000</td>\n",
       "      <td>33.000000</td>\n",
       "      <td>34.029999</td>\n",
       "      <td>34.029999</td>\n",
       "      <td>168192700</td>\n",
       "    </tr>\n",
       "    <tr>\n",
       "      <th>2012-05-22</th>\n",
       "      <td>32.610001</td>\n",
       "      <td>33.590000</td>\n",
       "      <td>30.940001</td>\n",
       "      <td>31.000000</td>\n",
       "      <td>31.000000</td>\n",
       "      <td>101786600</td>\n",
       "    </tr>\n",
       "    <tr>\n",
       "      <th>...</th>\n",
       "      <td>...</td>\n",
       "      <td>...</td>\n",
       "      <td>...</td>\n",
       "      <td>...</td>\n",
       "      <td>...</td>\n",
       "      <td>...</td>\n",
       "    </tr>\n",
       "    <tr>\n",
       "      <th>2022-03-20</th>\n",
       "      <td>206.699997</td>\n",
       "      <td>216.800003</td>\n",
       "      <td>206.000000</td>\n",
       "      <td>216.490005</td>\n",
       "      <td>216.490005</td>\n",
       "      <td>52055000</td>\n",
       "    </tr>\n",
       "    <tr>\n",
       "      <th>2022-03-21</th>\n",
       "      <td>214.500000</td>\n",
       "      <td>214.710007</td>\n",
       "      <td>207.630005</td>\n",
       "      <td>211.490005</td>\n",
       "      <td>211.490005</td>\n",
       "      <td>30142300</td>\n",
       "    </tr>\n",
       "    <tr>\n",
       "      <th>2022-03-22</th>\n",
       "      <td>211.369995</td>\n",
       "      <td>219.460007</td>\n",
       "      <td>210.179993</td>\n",
       "      <td>216.649994</td>\n",
       "      <td>216.649994</td>\n",
       "      <td>31998800</td>\n",
       "    </tr>\n",
       "    <tr>\n",
       "      <th>2022-03-23</th>\n",
       "      <td>213.330002</td>\n",
       "      <td>216.800003</td>\n",
       "      <td>212.160004</td>\n",
       "      <td>213.460007</td>\n",
       "      <td>213.460007</td>\n",
       "      <td>23717300</td>\n",
       "    </tr>\n",
       "    <tr>\n",
       "      <th>2022-03-24</th>\n",
       "      <td>215.000000</td>\n",
       "      <td>220.669998</td>\n",
       "      <td>214.789993</td>\n",
       "      <td>219.570007</td>\n",
       "      <td>219.570007</td>\n",
       "      <td>31466000</td>\n",
       "    </tr>\n",
       "  </tbody>\n",
       "</table>\n",
       "<p>3598 rows × 6 columns</p>\n",
       "</div>"
      ],
      "text/plain": [
       "                  Open        High         Low       Close   Adj Close  \\\n",
       "Date                                                                     \n",
       "2012-05-18   42.049999   45.000000   38.000000   38.230000   38.230000   \n",
       "2012-05-19   42.049999   45.000000   38.000000   38.230000   38.230000   \n",
       "2012-05-20   42.049999   45.000000   38.000000   38.230000   38.230000   \n",
       "2012-05-21   36.529999   36.660000   33.000000   34.029999   34.029999   \n",
       "2012-05-22   32.610001   33.590000   30.940001   31.000000   31.000000   \n",
       "...                ...         ...         ...         ...         ...   \n",
       "2022-03-20  206.699997  216.800003  206.000000  216.490005  216.490005   \n",
       "2022-03-21  214.500000  214.710007  207.630005  211.490005  211.490005   \n",
       "2022-03-22  211.369995  219.460007  210.179993  216.649994  216.649994   \n",
       "2022-03-23  213.330002  216.800003  212.160004  213.460007  213.460007   \n",
       "2022-03-24  215.000000  220.669998  214.789993  219.570007  219.570007   \n",
       "\n",
       "               Volume  \n",
       "Date                   \n",
       "2012-05-18  573576400  \n",
       "2012-05-19  573576400  \n",
       "2012-05-20  573576400  \n",
       "2012-05-21  168192700  \n",
       "2012-05-22  101786600  \n",
       "...               ...  \n",
       "2022-03-20   52055000  \n",
       "2022-03-21   30142300  \n",
       "2022-03-22   31998800  \n",
       "2022-03-23   23717300  \n",
       "2022-03-24   31466000  \n",
       "\n",
       "[3598 rows x 6 columns]"
      ]
     },
     "execution_count": 60,
     "metadata": {},
     "output_type": "execute_result"
    }
   ],
   "source": [
    "fb.asfreq(\"D\", method = \"pad\") # weekend data added"
   ]
  },
  {
   "cell_type": "code",
   "execution_count": 63,
   "id": "ea866249-7e3d-4550-aebb-c6742d350e93",
   "metadata": {},
   "outputs": [
    {
     "data": {
      "text/html": [
       "<div>\n",
       "<style scoped>\n",
       "    .dataframe tbody tr th:only-of-type {\n",
       "        vertical-align: middle;\n",
       "    }\n",
       "\n",
       "    .dataframe tbody tr th {\n",
       "        vertical-align: top;\n",
       "    }\n",
       "\n",
       "    .dataframe thead th {\n",
       "        text-align: right;\n",
       "    }\n",
       "</style>\n",
       "<table border=\"1\" class=\"dataframe\">\n",
       "  <thead>\n",
       "    <tr style=\"text-align: right;\">\n",
       "      <th></th>\n",
       "      <th>Open</th>\n",
       "      <th>High</th>\n",
       "      <th>Low</th>\n",
       "      <th>Close</th>\n",
       "      <th>Adj Close</th>\n",
       "      <th>Volume</th>\n",
       "    </tr>\n",
       "    <tr>\n",
       "      <th>Date</th>\n",
       "      <th></th>\n",
       "      <th></th>\n",
       "      <th></th>\n",
       "      <th></th>\n",
       "      <th></th>\n",
       "      <th></th>\n",
       "    </tr>\n",
       "  </thead>\n",
       "  <tbody>\n",
       "    <tr>\n",
       "      <th>2012-05-20</th>\n",
       "      <td>42.049999</td>\n",
       "      <td>45.000000</td>\n",
       "      <td>38.000000</td>\n",
       "      <td>38.230000</td>\n",
       "      <td>38.230000</td>\n",
       "      <td>573576400</td>\n",
       "    </tr>\n",
       "    <tr>\n",
       "      <th>2012-05-27</th>\n",
       "      <td>32.900002</td>\n",
       "      <td>32.950001</td>\n",
       "      <td>31.110001</td>\n",
       "      <td>31.910000</td>\n",
       "      <td>31.910000</td>\n",
       "      <td>37149800</td>\n",
       "    </tr>\n",
       "    <tr>\n",
       "      <th>2012-06-03</th>\n",
       "      <td>28.889999</td>\n",
       "      <td>29.150000</td>\n",
       "      <td>27.389999</td>\n",
       "      <td>27.719999</td>\n",
       "      <td>27.719999</td>\n",
       "      <td>41855500</td>\n",
       "    </tr>\n",
       "    <tr>\n",
       "      <th>2012-06-10</th>\n",
       "      <td>26.549999</td>\n",
       "      <td>27.760000</td>\n",
       "      <td>26.440001</td>\n",
       "      <td>27.100000</td>\n",
       "      <td>27.100000</td>\n",
       "      <td>38034000</td>\n",
       "    </tr>\n",
       "    <tr>\n",
       "      <th>2012-06-17</th>\n",
       "      <td>28.510000</td>\n",
       "      <td>30.100000</td>\n",
       "      <td>28.350000</td>\n",
       "      <td>30.010000</td>\n",
       "      <td>30.010000</td>\n",
       "      <td>43563800</td>\n",
       "    </tr>\n",
       "    <tr>\n",
       "      <th>...</th>\n",
       "      <td>...</td>\n",
       "      <td>...</td>\n",
       "      <td>...</td>\n",
       "      <td>...</td>\n",
       "      <td>...</td>\n",
       "      <td>...</td>\n",
       "    </tr>\n",
       "    <tr>\n",
       "      <th>2022-02-20</th>\n",
       "      <td>209.389999</td>\n",
       "      <td>210.750000</td>\n",
       "      <td>205.179993</td>\n",
       "      <td>206.160004</td>\n",
       "      <td>206.160004</td>\n",
       "      <td>37128400</td>\n",
       "    </tr>\n",
       "    <tr>\n",
       "      <th>2022-02-27</th>\n",
       "      <td>204.940002</td>\n",
       "      <td>211.320007</td>\n",
       "      <td>203.179993</td>\n",
       "      <td>210.479996</td>\n",
       "      <td>210.479996</td>\n",
       "      <td>37627600</td>\n",
       "    </tr>\n",
       "    <tr>\n",
       "      <th>2022-03-06</th>\n",
       "      <td>202.369995</td>\n",
       "      <td>205.889999</td>\n",
       "      <td>198.789993</td>\n",
       "      <td>200.059998</td>\n",
       "      <td>200.059998</td>\n",
       "      <td>32130900</td>\n",
       "    </tr>\n",
       "    <tr>\n",
       "      <th>2022-03-13</th>\n",
       "      <td>192.639999</td>\n",
       "      <td>193.559998</td>\n",
       "      <td>186.669998</td>\n",
       "      <td>187.610001</td>\n",
       "      <td>187.610001</td>\n",
       "      <td>34656900</td>\n",
       "    </tr>\n",
       "    <tr>\n",
       "      <th>2022-03-20</th>\n",
       "      <td>206.699997</td>\n",
       "      <td>216.800003</td>\n",
       "      <td>206.000000</td>\n",
       "      <td>216.490005</td>\n",
       "      <td>216.490005</td>\n",
       "      <td>52055000</td>\n",
       "    </tr>\n",
       "  </tbody>\n",
       "</table>\n",
       "<p>514 rows × 6 columns</p>\n",
       "</div>"
      ],
      "text/plain": [
       "                  Open        High         Low       Close   Adj Close  \\\n",
       "Date                                                                     \n",
       "2012-05-20   42.049999   45.000000   38.000000   38.230000   38.230000   \n",
       "2012-05-27   32.900002   32.950001   31.110001   31.910000   31.910000   \n",
       "2012-06-03   28.889999   29.150000   27.389999   27.719999   27.719999   \n",
       "2012-06-10   26.549999   27.760000   26.440001   27.100000   27.100000   \n",
       "2012-06-17   28.510000   30.100000   28.350000   30.010000   30.010000   \n",
       "...                ...         ...         ...         ...         ...   \n",
       "2022-02-20  209.389999  210.750000  205.179993  206.160004  206.160004   \n",
       "2022-02-27  204.940002  211.320007  203.179993  210.479996  210.479996   \n",
       "2022-03-06  202.369995  205.889999  198.789993  200.059998  200.059998   \n",
       "2022-03-13  192.639999  193.559998  186.669998  187.610001  187.610001   \n",
       "2022-03-20  206.699997  216.800003  206.000000  216.490005  216.490005   \n",
       "\n",
       "               Volume  \n",
       "Date                   \n",
       "2012-05-20  573576400  \n",
       "2012-05-27   37149800  \n",
       "2012-06-03   41855500  \n",
       "2012-06-10   38034000  \n",
       "2012-06-17   43563800  \n",
       "...               ...  \n",
       "2022-02-20   37128400  \n",
       "2022-02-27   37627600  \n",
       "2022-03-06   32130900  \n",
       "2022-03-13   34656900  \n",
       "2022-03-20   52055000  \n",
       "\n",
       "[514 rows x 6 columns]"
      ]
     },
     "execution_count": 63,
     "metadata": {},
     "output_type": "execute_result"
    }
   ],
   "source": [
    "fb.asfreq(\"W\", method = \"pad\") # weekly"
   ]
  },
  {
   "cell_type": "code",
   "execution_count": 65,
   "id": "adbb44c9-3966-4b58-a2da-58d7251d9c99",
   "metadata": {},
   "outputs": [
    {
     "data": {
      "text/html": [
       "<div>\n",
       "<style scoped>\n",
       "    .dataframe tbody tr th:only-of-type {\n",
       "        vertical-align: middle;\n",
       "    }\n",
       "\n",
       "    .dataframe tbody tr th {\n",
       "        vertical-align: top;\n",
       "    }\n",
       "\n",
       "    .dataframe thead th {\n",
       "        text-align: right;\n",
       "    }\n",
       "</style>\n",
       "<table border=\"1\" class=\"dataframe\">\n",
       "  <thead>\n",
       "    <tr style=\"text-align: right;\">\n",
       "      <th></th>\n",
       "      <th>Open</th>\n",
       "      <th>High</th>\n",
       "      <th>Low</th>\n",
       "      <th>Close</th>\n",
       "      <th>Adj Close</th>\n",
       "      <th>Volume</th>\n",
       "    </tr>\n",
       "    <tr>\n",
       "      <th>Date</th>\n",
       "      <th></th>\n",
       "      <th></th>\n",
       "      <th></th>\n",
       "      <th></th>\n",
       "      <th></th>\n",
       "      <th></th>\n",
       "    </tr>\n",
       "  </thead>\n",
       "  <tbody>\n",
       "    <tr>\n",
       "      <th>2012-05-18 00:00:00</th>\n",
       "      <td>42.049999</td>\n",
       "      <td>45.000000</td>\n",
       "      <td>38.000000</td>\n",
       "      <td>38.230000</td>\n",
       "      <td>38.230000</td>\n",
       "      <td>573576400</td>\n",
       "    </tr>\n",
       "    <tr>\n",
       "      <th>2012-05-18 01:00:00</th>\n",
       "      <td>42.049999</td>\n",
       "      <td>45.000000</td>\n",
       "      <td>38.000000</td>\n",
       "      <td>38.230000</td>\n",
       "      <td>38.230000</td>\n",
       "      <td>573576400</td>\n",
       "    </tr>\n",
       "    <tr>\n",
       "      <th>2012-05-18 02:00:00</th>\n",
       "      <td>42.049999</td>\n",
       "      <td>45.000000</td>\n",
       "      <td>38.000000</td>\n",
       "      <td>38.230000</td>\n",
       "      <td>38.230000</td>\n",
       "      <td>573576400</td>\n",
       "    </tr>\n",
       "    <tr>\n",
       "      <th>2012-05-18 03:00:00</th>\n",
       "      <td>42.049999</td>\n",
       "      <td>45.000000</td>\n",
       "      <td>38.000000</td>\n",
       "      <td>38.230000</td>\n",
       "      <td>38.230000</td>\n",
       "      <td>573576400</td>\n",
       "    </tr>\n",
       "    <tr>\n",
       "      <th>2012-05-18 04:00:00</th>\n",
       "      <td>42.049999</td>\n",
       "      <td>45.000000</td>\n",
       "      <td>38.000000</td>\n",
       "      <td>38.230000</td>\n",
       "      <td>38.230000</td>\n",
       "      <td>573576400</td>\n",
       "    </tr>\n",
       "    <tr>\n",
       "      <th>...</th>\n",
       "      <td>...</td>\n",
       "      <td>...</td>\n",
       "      <td>...</td>\n",
       "      <td>...</td>\n",
       "      <td>...</td>\n",
       "      <td>...</td>\n",
       "    </tr>\n",
       "    <tr>\n",
       "      <th>2022-03-23 20:00:00</th>\n",
       "      <td>213.330002</td>\n",
       "      <td>216.800003</td>\n",
       "      <td>212.160004</td>\n",
       "      <td>213.460007</td>\n",
       "      <td>213.460007</td>\n",
       "      <td>23717300</td>\n",
       "    </tr>\n",
       "    <tr>\n",
       "      <th>2022-03-23 21:00:00</th>\n",
       "      <td>213.330002</td>\n",
       "      <td>216.800003</td>\n",
       "      <td>212.160004</td>\n",
       "      <td>213.460007</td>\n",
       "      <td>213.460007</td>\n",
       "      <td>23717300</td>\n",
       "    </tr>\n",
       "    <tr>\n",
       "      <th>2022-03-23 22:00:00</th>\n",
       "      <td>213.330002</td>\n",
       "      <td>216.800003</td>\n",
       "      <td>212.160004</td>\n",
       "      <td>213.460007</td>\n",
       "      <td>213.460007</td>\n",
       "      <td>23717300</td>\n",
       "    </tr>\n",
       "    <tr>\n",
       "      <th>2022-03-23 23:00:00</th>\n",
       "      <td>213.330002</td>\n",
       "      <td>216.800003</td>\n",
       "      <td>212.160004</td>\n",
       "      <td>213.460007</td>\n",
       "      <td>213.460007</td>\n",
       "      <td>23717300</td>\n",
       "    </tr>\n",
       "    <tr>\n",
       "      <th>2022-03-24 00:00:00</th>\n",
       "      <td>215.000000</td>\n",
       "      <td>220.669998</td>\n",
       "      <td>214.789993</td>\n",
       "      <td>219.570007</td>\n",
       "      <td>219.570007</td>\n",
       "      <td>31466000</td>\n",
       "    </tr>\n",
       "  </tbody>\n",
       "</table>\n",
       "<p>86329 rows × 6 columns</p>\n",
       "</div>"
      ],
      "text/plain": [
       "                           Open        High         Low       Close  \\\n",
       "Date                                                                  \n",
       "2012-05-18 00:00:00   42.049999   45.000000   38.000000   38.230000   \n",
       "2012-05-18 01:00:00   42.049999   45.000000   38.000000   38.230000   \n",
       "2012-05-18 02:00:00   42.049999   45.000000   38.000000   38.230000   \n",
       "2012-05-18 03:00:00   42.049999   45.000000   38.000000   38.230000   \n",
       "2012-05-18 04:00:00   42.049999   45.000000   38.000000   38.230000   \n",
       "...                         ...         ...         ...         ...   \n",
       "2022-03-23 20:00:00  213.330002  216.800003  212.160004  213.460007   \n",
       "2022-03-23 21:00:00  213.330002  216.800003  212.160004  213.460007   \n",
       "2022-03-23 22:00:00  213.330002  216.800003  212.160004  213.460007   \n",
       "2022-03-23 23:00:00  213.330002  216.800003  212.160004  213.460007   \n",
       "2022-03-24 00:00:00  215.000000  220.669998  214.789993  219.570007   \n",
       "\n",
       "                      Adj Close     Volume  \n",
       "Date                                        \n",
       "2012-05-18 00:00:00   38.230000  573576400  \n",
       "2012-05-18 01:00:00   38.230000  573576400  \n",
       "2012-05-18 02:00:00   38.230000  573576400  \n",
       "2012-05-18 03:00:00   38.230000  573576400  \n",
       "2012-05-18 04:00:00   38.230000  573576400  \n",
       "...                         ...        ...  \n",
       "2022-03-23 20:00:00  213.460007   23717300  \n",
       "2022-03-23 21:00:00  213.460007   23717300  \n",
       "2022-03-23 22:00:00  213.460007   23717300  \n",
       "2022-03-23 23:00:00  213.460007   23717300  \n",
       "2022-03-24 00:00:00  219.570007   31466000  \n",
       "\n",
       "[86329 rows x 6 columns]"
      ]
     },
     "execution_count": 65,
     "metadata": {},
     "output_type": "execute_result"
    }
   ],
   "source": [
    "fb.asfreq(\"H\", method = \"pad\") # Hourly"
   ]
  },
  {
   "cell_type": "code",
   "execution_count": 66,
   "id": "08c03314-10a2-41eb-83c8-eab54acd8196",
   "metadata": {},
   "outputs": [
    {
     "data": {
      "text/plain": [
       "DatetimeIndex(['2019-03-01', '2019-03-04', '2019-03-05', '2019-03-06',\n",
       "               '2019-03-07', '2019-03-08', '2019-03-11', '2019-03-12',\n",
       "               '2019-03-13', '2019-03-14', '2019-03-15', '2019-03-18',\n",
       "               '2019-03-19', '2019-03-20', '2019-03-21', '2019-03-22',\n",
       "               '2019-03-25', '2019-03-26', '2019-03-27', '2019-03-28',\n",
       "               '2019-03-29', '2019-04-01', '2019-04-02', '2019-04-03',\n",
       "               '2019-04-04', '2019-04-05', '2019-04-08', '2019-04-09',\n",
       "               '2019-04-10', '2019-04-11', '2019-04-12', '2019-04-15',\n",
       "               '2019-04-16', '2019-04-17', '2019-04-18', '2019-04-19',\n",
       "               '2019-04-22', '2019-04-23', '2019-04-24', '2019-04-25',\n",
       "               '2019-04-26', '2019-04-29', '2019-04-30', '2019-05-01',\n",
       "               '2019-05-02', '2019-05-03', '2019-05-06', '2019-05-07',\n",
       "               '2019-05-08', '2019-05-09', '2019-05-10', '2019-05-13',\n",
       "               '2019-05-14', '2019-05-15', '2019-05-16', '2019-05-17',\n",
       "               '2019-05-20', '2019-05-21', '2019-05-22', '2019-05-23'],\n",
       "              dtype='datetime64[ns]', freq='B')"
      ]
     },
     "execution_count": 66,
     "metadata": {},
     "output_type": "execute_result"
    }
   ],
   "source": [
    "z = pd.date_range(start= \"3/1/2019\", periods = 60, freq = \"B\") # mid-week\n",
    "z"
   ]
  },
  {
   "cell_type": "code",
   "execution_count": 67,
   "id": "1328bd0f-8443-4588-87d8-434d48f5546e",
   "metadata": {},
   "outputs": [
    {
     "data": {
      "text/plain": [
       "2019-03-01    7\n",
       "2019-03-04    3\n",
       "2019-03-05    4\n",
       "2019-03-06    2\n",
       "2019-03-07    4\n",
       "2019-03-08    7\n",
       "2019-03-11    2\n",
       "2019-03-12    7\n",
       "2019-03-13    4\n",
       "2019-03-14    8\n",
       "2019-03-15    6\n",
       "2019-03-18    4\n",
       "2019-03-19    2\n",
       "2019-03-20    3\n",
       "2019-03-21    2\n",
       "2019-03-22    5\n",
       "2019-03-25    4\n",
       "2019-03-26    4\n",
       "2019-03-27    9\n",
       "2019-03-28    1\n",
       "2019-03-29    6\n",
       "2019-04-01    4\n",
       "2019-04-02    1\n",
       "2019-04-03    7\n",
       "2019-04-04    9\n",
       "2019-04-05    5\n",
       "2019-04-08    4\n",
       "2019-04-09    7\n",
       "2019-04-10    7\n",
       "2019-04-11    7\n",
       "2019-04-12    2\n",
       "2019-04-15    6\n",
       "2019-04-16    9\n",
       "2019-04-17    1\n",
       "2019-04-18    8\n",
       "2019-04-19    4\n",
       "2019-04-22    3\n",
       "2019-04-23    5\n",
       "2019-04-24    7\n",
       "2019-04-25    5\n",
       "2019-04-26    9\n",
       "2019-04-29    3\n",
       "2019-04-30    5\n",
       "2019-05-01    8\n",
       "2019-05-02    1\n",
       "2019-05-03    1\n",
       "2019-05-06    4\n",
       "2019-05-07    3\n",
       "2019-05-08    6\n",
       "2019-05-09    5\n",
       "2019-05-10    7\n",
       "2019-05-13    9\n",
       "2019-05-14    9\n",
       "2019-05-15    4\n",
       "2019-05-16    9\n",
       "2019-05-17    9\n",
       "2019-05-20    2\n",
       "2019-05-21    1\n",
       "2019-05-22    8\n",
       "2019-05-23    2\n",
       "Freq: B, dtype: int32"
      ]
     },
     "execution_count": 67,
     "metadata": {},
     "output_type": "execute_result"
    }
   ],
   "source": [
    "ts = pd.Series(np.random.randint(1,10,len(z)), index = z)\n",
    "ts"
   ]
  },
  {
   "cell_type": "markdown",
   "id": "bbf06e84-4b7e-401d-89af-23e896365144",
   "metadata": {},
   "source": [
    "## Important Methods"
   ]
  },
  {
   "cell_type": "code",
   "execution_count": 68,
   "id": "fb05a859-6539-48d8-a5f5-eb0e81c4e699",
   "metadata": {},
   "outputs": [
    {
     "name": "stderr",
     "output_type": "stream",
     "text": [
      "C:\\Users\\erdem\\AppData\\Local\\Temp\\ipykernel_8956\\3146444144.py:1: UserWarning: Parsing dates in DD/MM/YYYY format when dayfirst=False (the default) was specified. This may lead to inconsistently parsed dates! Specify a format to ensure consistent parsing.\n",
      "  pd.to_datetime(\"15/08/2024\")\n"
     ]
    },
    {
     "data": {
      "text/plain": [
       "Timestamp('2024-08-15 00:00:00')"
      ]
     },
     "execution_count": 68,
     "metadata": {},
     "output_type": "execute_result"
    }
   ],
   "source": [
    "pd.to_datetime(\"15/08/2024\")"
   ]
  },
  {
   "cell_type": "code",
   "execution_count": 72,
   "id": "2e048a9a-8820-41f5-910e-af65d5384763",
   "metadata": {},
   "outputs": [
    {
     "data": {
      "text/plain": [
       "Timestamp('2024-03-05 00:00:00')"
      ]
     },
     "execution_count": 72,
     "metadata": {},
     "output_type": "execute_result"
    }
   ],
   "source": [
    "pd.to_datetime(\"03/05/2024\") # American date"
   ]
  },
  {
   "cell_type": "code",
   "execution_count": 73,
   "id": "8641a7f7-5263-43d9-820b-4b06d05beb96",
   "metadata": {},
   "outputs": [
    {
     "data": {
      "text/plain": [
       "Timestamp('2024-03-05 00:00:00')"
      ]
     },
     "execution_count": 73,
     "metadata": {},
     "output_type": "execute_result"
    }
   ],
   "source": [
    "pd.to_datetime(\"05/03/2024\", dayfirst=True) # Europian date"
   ]
  },
  {
   "cell_type": "code",
   "execution_count": 74,
   "id": "8d6b45d7-8a95-4009-9376-b6375233268b",
   "metadata": {},
   "outputs": [
    {
     "data": {
      "text/plain": [
       "Timestamp('2024-03-05 00:00:00')"
      ]
     },
     "execution_count": 74,
     "metadata": {},
     "output_type": "execute_result"
    }
   ],
   "source": [
    "pd.to_datetime(\"05*03*2024\", format = \"%d*%m*%Y\")"
   ]
  },
  {
   "cell_type": "code",
   "execution_count": 79,
   "id": "c76e35f9-7bbf-4c67-a1ca-aaa2ad06302d",
   "metadata": {},
   "outputs": [
    {
     "ename": "ParserError",
     "evalue": "Unknown string format: xyz present at position 0",
     "output_type": "error",
     "traceback": [
      "\u001b[1;31m---------------------------------------------------------------------------\u001b[0m",
      "\u001b[1;31mParserError\u001b[0m                               Traceback (most recent call last)",
      "File \u001b[1;32m~\\anaconda3\\lib\\site-packages\\pandas\\_libs\\tslib.pyx:605\u001b[0m, in \u001b[0;36mpandas._libs.tslib.array_to_datetime\u001b[1;34m()\u001b[0m\n",
      "File \u001b[1;32m~\\anaconda3\\lib\\site-packages\\pandas\\_libs\\tslibs\\parsing.pyx:318\u001b[0m, in \u001b[0;36mpandas._libs.tslibs.parsing.parse_datetime_string\u001b[1;34m()\u001b[0m\n",
      "File \u001b[1;32m~\\anaconda3\\lib\\site-packages\\dateutil\\parser\\_parser.py:1368\u001b[0m, in \u001b[0;36mparse\u001b[1;34m(timestr, parserinfo, **kwargs)\u001b[0m\n\u001b[0;32m   1367\u001b[0m \u001b[38;5;28;01melse\u001b[39;00m:\n\u001b[1;32m-> 1368\u001b[0m     \u001b[38;5;28;01mreturn\u001b[39;00m DEFAULTPARSER\u001b[38;5;241m.\u001b[39mparse(timestr, \u001b[38;5;241m*\u001b[39m\u001b[38;5;241m*\u001b[39mkwargs)\n",
      "File \u001b[1;32m~\\anaconda3\\lib\\site-packages\\dateutil\\parser\\_parser.py:643\u001b[0m, in \u001b[0;36mparser.parse\u001b[1;34m(self, timestr, default, ignoretz, tzinfos, **kwargs)\u001b[0m\n\u001b[0;32m    642\u001b[0m \u001b[38;5;28;01mif\u001b[39;00m res \u001b[38;5;129;01mis\u001b[39;00m \u001b[38;5;28;01mNone\u001b[39;00m:\n\u001b[1;32m--> 643\u001b[0m     \u001b[38;5;28;01mraise\u001b[39;00m ParserError(\u001b[38;5;124m\"\u001b[39m\u001b[38;5;124mUnknown string format: \u001b[39m\u001b[38;5;132;01m%s\u001b[39;00m\u001b[38;5;124m\"\u001b[39m, timestr)\n\u001b[0;32m    645\u001b[0m \u001b[38;5;28;01mif\u001b[39;00m \u001b[38;5;28mlen\u001b[39m(res) \u001b[38;5;241m==\u001b[39m \u001b[38;5;241m0\u001b[39m:\n",
      "\u001b[1;31mParserError\u001b[0m: Unknown string format: xyz",
      "\nDuring handling of the above exception, another exception occurred:\n",
      "\u001b[1;31mTypeError\u001b[0m                                 Traceback (most recent call last)",
      "File \u001b[1;32m~\\anaconda3\\lib\\site-packages\\pandas\\_libs\\tslib.pyx:616\u001b[0m, in \u001b[0;36mpandas._libs.tslib.array_to_datetime\u001b[1;34m()\u001b[0m\n",
      "\u001b[1;31mTypeError\u001b[0m: invalid string coercion to datetime for \"xyz\" at position 0",
      "\nDuring handling of the above exception, another exception occurred:\n",
      "\u001b[1;31mParserError\u001b[0m                               Traceback (most recent call last)",
      "Cell \u001b[1;32mIn[79], line 2\u001b[0m\n\u001b[0;32m      1\u001b[0m date \u001b[38;5;241m=\u001b[39m [\u001b[38;5;124m\"\u001b[39m\u001b[38;5;124mxyz\u001b[39m\u001b[38;5;124m\"\u001b[39m,\u001b[38;5;124m\"\u001b[39m\u001b[38;5;124m05/03/2024\u001b[39m\u001b[38;5;124m\"\u001b[39m]\n\u001b[1;32m----> 2\u001b[0m \u001b[43mpd\u001b[49m\u001b[38;5;241;43m.\u001b[39;49m\u001b[43mto_datetime\u001b[49m\u001b[43m(\u001b[49m\u001b[43mdate\u001b[49m\u001b[43m)\u001b[49m\n",
      "File \u001b[1;32m~\\anaconda3\\lib\\site-packages\\pandas\\core\\tools\\datetimes.py:1100\u001b[0m, in \u001b[0;36mto_datetime\u001b[1;34m(arg, errors, dayfirst, yearfirst, utc, format, exact, unit, infer_datetime_format, origin, cache)\u001b[0m\n\u001b[0;32m   1098\u001b[0m         result \u001b[38;5;241m=\u001b[39m _convert_and_box_cache(argc, cache_array)\n\u001b[0;32m   1099\u001b[0m     \u001b[38;5;28;01melse\u001b[39;00m:\n\u001b[1;32m-> 1100\u001b[0m         result \u001b[38;5;241m=\u001b[39m \u001b[43mconvert_listlike\u001b[49m\u001b[43m(\u001b[49m\u001b[43margc\u001b[49m\u001b[43m,\u001b[49m\u001b[43m \u001b[49m\u001b[38;5;28;43mformat\u001b[39;49m\u001b[43m)\u001b[49m\n\u001b[0;32m   1101\u001b[0m \u001b[38;5;28;01melse\u001b[39;00m:\n\u001b[0;32m   1102\u001b[0m     result \u001b[38;5;241m=\u001b[39m convert_listlike(np\u001b[38;5;241m.\u001b[39marray([arg]), \u001b[38;5;28mformat\u001b[39m)[\u001b[38;5;241m0\u001b[39m]\n",
      "File \u001b[1;32m~\\anaconda3\\lib\\site-packages\\pandas\\core\\tools\\datetimes.py:438\u001b[0m, in \u001b[0;36m_convert_listlike_datetimes\u001b[1;34m(arg, format, name, tz, unit, errors, infer_datetime_format, dayfirst, yearfirst, exact)\u001b[0m\n\u001b[0;32m    436\u001b[0m \u001b[38;5;28;01massert\u001b[39;00m \u001b[38;5;28mformat\u001b[39m \u001b[38;5;129;01mis\u001b[39;00m \u001b[38;5;28;01mNone\u001b[39;00m \u001b[38;5;129;01mor\u001b[39;00m infer_datetime_format\n\u001b[0;32m    437\u001b[0m utc \u001b[38;5;241m=\u001b[39m tz \u001b[38;5;241m==\u001b[39m \u001b[38;5;124m\"\u001b[39m\u001b[38;5;124mutc\u001b[39m\u001b[38;5;124m\"\u001b[39m\n\u001b[1;32m--> 438\u001b[0m result, tz_parsed \u001b[38;5;241m=\u001b[39m \u001b[43mobjects_to_datetime64ns\u001b[49m\u001b[43m(\u001b[49m\n\u001b[0;32m    439\u001b[0m \u001b[43m    \u001b[49m\u001b[43marg\u001b[49m\u001b[43m,\u001b[49m\n\u001b[0;32m    440\u001b[0m \u001b[43m    \u001b[49m\u001b[43mdayfirst\u001b[49m\u001b[38;5;241;43m=\u001b[39;49m\u001b[43mdayfirst\u001b[49m\u001b[43m,\u001b[49m\n\u001b[0;32m    441\u001b[0m \u001b[43m    \u001b[49m\u001b[43myearfirst\u001b[49m\u001b[38;5;241;43m=\u001b[39;49m\u001b[43myearfirst\u001b[49m\u001b[43m,\u001b[49m\n\u001b[0;32m    442\u001b[0m \u001b[43m    \u001b[49m\u001b[43mutc\u001b[49m\u001b[38;5;241;43m=\u001b[39;49m\u001b[43mutc\u001b[49m\u001b[43m,\u001b[49m\n\u001b[0;32m    443\u001b[0m \u001b[43m    \u001b[49m\u001b[43merrors\u001b[49m\u001b[38;5;241;43m=\u001b[39;49m\u001b[43merrors\u001b[49m\u001b[43m,\u001b[49m\n\u001b[0;32m    444\u001b[0m \u001b[43m    \u001b[49m\u001b[43mrequire_iso8601\u001b[49m\u001b[38;5;241;43m=\u001b[39;49m\u001b[43mrequire_iso8601\u001b[49m\u001b[43m,\u001b[49m\n\u001b[0;32m    445\u001b[0m \u001b[43m    \u001b[49m\u001b[43mallow_object\u001b[49m\u001b[38;5;241;43m=\u001b[39;49m\u001b[38;5;28;43;01mTrue\u001b[39;49;00m\u001b[43m,\u001b[49m\n\u001b[0;32m    446\u001b[0m \u001b[43m\u001b[49m\u001b[43m)\u001b[49m\n\u001b[0;32m    448\u001b[0m \u001b[38;5;28;01mif\u001b[39;00m tz_parsed \u001b[38;5;129;01mis\u001b[39;00m \u001b[38;5;129;01mnot\u001b[39;00m \u001b[38;5;28;01mNone\u001b[39;00m:\n\u001b[0;32m    449\u001b[0m     \u001b[38;5;66;03m# We can take a shortcut since the datetime64 numpy array\u001b[39;00m\n\u001b[0;32m    450\u001b[0m     \u001b[38;5;66;03m# is in UTC\u001b[39;00m\n\u001b[0;32m    451\u001b[0m     dta \u001b[38;5;241m=\u001b[39m DatetimeArray(result, dtype\u001b[38;5;241m=\u001b[39mtz_to_dtype(tz_parsed))\n",
      "File \u001b[1;32m~\\anaconda3\\lib\\site-packages\\pandas\\core\\arrays\\datetimes.py:2177\u001b[0m, in \u001b[0;36mobjects_to_datetime64ns\u001b[1;34m(data, dayfirst, yearfirst, utc, errors, require_iso8601, allow_object, allow_mixed)\u001b[0m\n\u001b[0;32m   2175\u001b[0m order: Literal[\u001b[38;5;124m\"\u001b[39m\u001b[38;5;124mF\u001b[39m\u001b[38;5;124m\"\u001b[39m, \u001b[38;5;124m\"\u001b[39m\u001b[38;5;124mC\u001b[39m\u001b[38;5;124m\"\u001b[39m] \u001b[38;5;241m=\u001b[39m \u001b[38;5;124m\"\u001b[39m\u001b[38;5;124mF\u001b[39m\u001b[38;5;124m\"\u001b[39m \u001b[38;5;28;01mif\u001b[39;00m flags\u001b[38;5;241m.\u001b[39mf_contiguous \u001b[38;5;28;01melse\u001b[39;00m \u001b[38;5;124m\"\u001b[39m\u001b[38;5;124mC\u001b[39m\u001b[38;5;124m\"\u001b[39m\n\u001b[0;32m   2176\u001b[0m \u001b[38;5;28;01mtry\u001b[39;00m:\n\u001b[1;32m-> 2177\u001b[0m     result, tz_parsed \u001b[38;5;241m=\u001b[39m \u001b[43mtslib\u001b[49m\u001b[38;5;241;43m.\u001b[39;49m\u001b[43marray_to_datetime\u001b[49m\u001b[43m(\u001b[49m\n\u001b[0;32m   2178\u001b[0m \u001b[43m        \u001b[49m\u001b[43mdata\u001b[49m\u001b[38;5;241;43m.\u001b[39;49m\u001b[43mravel\u001b[49m\u001b[43m(\u001b[49m\u001b[38;5;124;43m\"\u001b[39;49m\u001b[38;5;124;43mK\u001b[39;49m\u001b[38;5;124;43m\"\u001b[39;49m\u001b[43m)\u001b[49m\u001b[43m,\u001b[49m\n\u001b[0;32m   2179\u001b[0m \u001b[43m        \u001b[49m\u001b[43merrors\u001b[49m\u001b[38;5;241;43m=\u001b[39;49m\u001b[43merrors\u001b[49m\u001b[43m,\u001b[49m\n\u001b[0;32m   2180\u001b[0m \u001b[43m        \u001b[49m\u001b[43mutc\u001b[49m\u001b[38;5;241;43m=\u001b[39;49m\u001b[43mutc\u001b[49m\u001b[43m,\u001b[49m\n\u001b[0;32m   2181\u001b[0m \u001b[43m        \u001b[49m\u001b[43mdayfirst\u001b[49m\u001b[38;5;241;43m=\u001b[39;49m\u001b[43mdayfirst\u001b[49m\u001b[43m,\u001b[49m\n\u001b[0;32m   2182\u001b[0m \u001b[43m        \u001b[49m\u001b[43myearfirst\u001b[49m\u001b[38;5;241;43m=\u001b[39;49m\u001b[43myearfirst\u001b[49m\u001b[43m,\u001b[49m\n\u001b[0;32m   2183\u001b[0m \u001b[43m        \u001b[49m\u001b[43mrequire_iso8601\u001b[49m\u001b[38;5;241;43m=\u001b[39;49m\u001b[43mrequire_iso8601\u001b[49m\u001b[43m,\u001b[49m\n\u001b[0;32m   2184\u001b[0m \u001b[43m        \u001b[49m\u001b[43mallow_mixed\u001b[49m\u001b[38;5;241;43m=\u001b[39;49m\u001b[43mallow_mixed\u001b[49m\u001b[43m,\u001b[49m\n\u001b[0;32m   2185\u001b[0m \u001b[43m    \u001b[49m\u001b[43m)\u001b[49m\n\u001b[0;32m   2186\u001b[0m     result \u001b[38;5;241m=\u001b[39m result\u001b[38;5;241m.\u001b[39mreshape(data\u001b[38;5;241m.\u001b[39mshape, order\u001b[38;5;241m=\u001b[39morder)\n\u001b[0;32m   2187\u001b[0m \u001b[38;5;28;01mexcept\u001b[39;00m \u001b[38;5;167;01mOverflowError\u001b[39;00m \u001b[38;5;28;01mas\u001b[39;00m err:\n\u001b[0;32m   2188\u001b[0m     \u001b[38;5;66;03m# Exception is raised when a part of date is greater than 32 bit signed int\u001b[39;00m\n",
      "File \u001b[1;32m~\\anaconda3\\lib\\site-packages\\pandas\\_libs\\tslib.pyx:427\u001b[0m, in \u001b[0;36mpandas._libs.tslib.array_to_datetime\u001b[1;34m()\u001b[0m\n",
      "File \u001b[1;32m~\\anaconda3\\lib\\site-packages\\pandas\\_libs\\tslib.pyx:683\u001b[0m, in \u001b[0;36mpandas._libs.tslib.array_to_datetime\u001b[1;34m()\u001b[0m\n",
      "File \u001b[1;32m~\\anaconda3\\lib\\site-packages\\pandas\\_libs\\tslib.pyx:829\u001b[0m, in \u001b[0;36mpandas._libs.tslib._array_to_datetime_object\u001b[1;34m()\u001b[0m\n",
      "File \u001b[1;32m~\\anaconda3\\lib\\site-packages\\pandas\\_libs\\tslib.pyx:819\u001b[0m, in \u001b[0;36mpandas._libs.tslib._array_to_datetime_object\u001b[1;34m()\u001b[0m\n",
      "File \u001b[1;32m~\\anaconda3\\lib\\site-packages\\pandas\\_libs\\tslibs\\parsing.pyx:318\u001b[0m, in \u001b[0;36mpandas._libs.tslibs.parsing.parse_datetime_string\u001b[1;34m()\u001b[0m\n",
      "File \u001b[1;32m~\\anaconda3\\lib\\site-packages\\dateutil\\parser\\_parser.py:1368\u001b[0m, in \u001b[0;36mparse\u001b[1;34m(timestr, parserinfo, **kwargs)\u001b[0m\n\u001b[0;32m   1366\u001b[0m     \u001b[38;5;28;01mreturn\u001b[39;00m parser(parserinfo)\u001b[38;5;241m.\u001b[39mparse(timestr, \u001b[38;5;241m*\u001b[39m\u001b[38;5;241m*\u001b[39mkwargs)\n\u001b[0;32m   1367\u001b[0m \u001b[38;5;28;01melse\u001b[39;00m:\n\u001b[1;32m-> 1368\u001b[0m     \u001b[38;5;28;01mreturn\u001b[39;00m DEFAULTPARSER\u001b[38;5;241m.\u001b[39mparse(timestr, \u001b[38;5;241m*\u001b[39m\u001b[38;5;241m*\u001b[39mkwargs)\n",
      "File \u001b[1;32m~\\anaconda3\\lib\\site-packages\\dateutil\\parser\\_parser.py:643\u001b[0m, in \u001b[0;36mparser.parse\u001b[1;34m(self, timestr, default, ignoretz, tzinfos, **kwargs)\u001b[0m\n\u001b[0;32m    640\u001b[0m res, skipped_tokens \u001b[38;5;241m=\u001b[39m \u001b[38;5;28mself\u001b[39m\u001b[38;5;241m.\u001b[39m_parse(timestr, \u001b[38;5;241m*\u001b[39m\u001b[38;5;241m*\u001b[39mkwargs)\n\u001b[0;32m    642\u001b[0m \u001b[38;5;28;01mif\u001b[39;00m res \u001b[38;5;129;01mis\u001b[39;00m \u001b[38;5;28;01mNone\u001b[39;00m:\n\u001b[1;32m--> 643\u001b[0m     \u001b[38;5;28;01mraise\u001b[39;00m ParserError(\u001b[38;5;124m\"\u001b[39m\u001b[38;5;124mUnknown string format: \u001b[39m\u001b[38;5;132;01m%s\u001b[39;00m\u001b[38;5;124m\"\u001b[39m, timestr)\n\u001b[0;32m    645\u001b[0m \u001b[38;5;28;01mif\u001b[39;00m \u001b[38;5;28mlen\u001b[39m(res) \u001b[38;5;241m==\u001b[39m \u001b[38;5;241m0\u001b[39m:\n\u001b[0;32m    646\u001b[0m     \u001b[38;5;28;01mraise\u001b[39;00m ParserError(\u001b[38;5;124m\"\u001b[39m\u001b[38;5;124mString does not contain a date: \u001b[39m\u001b[38;5;132;01m%s\u001b[39;00m\u001b[38;5;124m\"\u001b[39m, timestr)\n",
      "\u001b[1;31mParserError\u001b[0m: Unknown string format: xyz present at position 0"
     ]
    }
   ],
   "source": [
    "date = [\"xyz\",\"05/03/2024\"]\n",
    "pd.to_datetime(date)"
   ]
  },
  {
   "cell_type": "code",
   "execution_count": 82,
   "id": "876b2bb0-3567-4da8-90ef-c0f871a13565",
   "metadata": {},
   "outputs": [
    {
     "data": {
      "text/plain": [
       "Index(['xyz', '05/03/2024'], dtype='object')"
      ]
     },
     "execution_count": 82,
     "metadata": {},
     "output_type": "execute_result"
    }
   ],
   "source": [
    "pd.to_datetime(date,errors = \"ignore\")"
   ]
  },
  {
   "cell_type": "code",
   "execution_count": 83,
   "id": "33fe26d3-f28b-4db0-8765-7b96905541b6",
   "metadata": {},
   "outputs": [
    {
     "data": {
      "text/plain": [
       "DatetimeIndex(['NaT', '2024-05-03'], dtype='datetime64[ns]', freq=None)"
      ]
     },
     "execution_count": 83,
     "metadata": {},
     "output_type": "execute_result"
    }
   ],
   "source": [
    "pd.to_datetime(date,errors = \"coerce\")"
   ]
  },
  {
   "cell_type": "code",
   "execution_count": 84,
   "id": "caf3922a-ad9f-4122-a340-e979f8731cfb",
   "metadata": {},
   "outputs": [
    {
     "data": {
      "text/plain": [
       "Timestamp('2001-09-09 01:46:40')"
      ]
     },
     "execution_count": 84,
     "metadata": {},
     "output_type": "execute_result"
    }
   ],
   "source": [
    "t = 1000000000\n",
    "pd.to_datetime(t, unit=\"s\")"
   ]
  },
  {
   "cell_type": "code",
   "execution_count": 85,
   "id": "cae4338d-ee9c-48da-980d-63b459acf217",
   "metadata": {},
   "outputs": [
    {
     "data": {
      "text/plain": [
       "DatetimeIndex(['2010-01-01 00:00:00', '2010-01-01 04:00:00',\n",
       "               '2010-01-01 08:00:00', '2010-01-01 12:00:00',\n",
       "               '2010-01-01 16:00:00', '2010-01-01 20:00:00',\n",
       "               '2010-01-02 00:00:00', '2010-01-02 04:00:00',\n",
       "               '2010-01-02 08:00:00', '2010-01-02 12:00:00',\n",
       "               '2010-01-02 16:00:00', '2010-01-02 20:00:00',\n",
       "               '2010-01-03 00:00:00'],\n",
       "              dtype='datetime64[ns]', freq='4H')"
      ]
     },
     "execution_count": 85,
     "metadata": {},
     "output_type": "execute_result"
    }
   ],
   "source": [
    "pd.date_range(\"2010-01-01\",\"2010-01-03\",freq=\"4h\")"
   ]
  },
  {
   "cell_type": "code",
   "execution_count": 87,
   "id": "36a0d2ba-3c0f-4669-914e-ed95641da964",
   "metadata": {},
   "outputs": [
    {
     "data": {
      "text/plain": [
       "DatetimeIndex(['2010-01-24', '2010-02-28', '2010-03-28', '2010-04-25',\n",
       "               '2010-05-23', '2010-06-27', '2010-07-25', '2010-08-22'],\n",
       "              dtype='datetime64[ns]', freq='WOM-4SUN')"
      ]
     },
     "execution_count": 87,
     "metadata": {},
     "output_type": "execute_result"
    }
   ],
   "source": [
    "pd.date_range(\"2010-01-01\",\"2010-09-03\",freq=\"WOM-4SUN\") # last sunday of the month"
   ]
  },
  {
   "cell_type": "code",
   "execution_count": 88,
   "id": "6d9fce63-ca8b-4ef9-a0cd-46fffe6c38cb",
   "metadata": {},
   "outputs": [
    {
     "data": {
      "text/plain": [
       "Period('2020', 'A-DEC')"
      ]
     },
     "execution_count": 88,
     "metadata": {},
     "output_type": "execute_result"
    }
   ],
   "source": [
    "p = pd.Period(2020)\n",
    "p"
   ]
  },
  {
   "cell_type": "code",
   "execution_count": 89,
   "id": "8367bcb3-8c39-45a1-abb2-fde81321df96",
   "metadata": {},
   "outputs": [
    {
     "data": {
      "text/plain": [
       "['__add__',\n",
       " '__array_priority__',\n",
       " '__class__',\n",
       " '__delattr__',\n",
       " '__dict__',\n",
       " '__dir__',\n",
       " '__doc__',\n",
       " '__eq__',\n",
       " '__format__',\n",
       " '__ge__',\n",
       " '__getattribute__',\n",
       " '__gt__',\n",
       " '__hash__',\n",
       " '__init__',\n",
       " '__init_subclass__',\n",
       " '__le__',\n",
       " '__lt__',\n",
       " '__module__',\n",
       " '__ne__',\n",
       " '__new__',\n",
       " '__radd__',\n",
       " '__reduce__',\n",
       " '__reduce_ex__',\n",
       " '__repr__',\n",
       " '__rsub__',\n",
       " '__setattr__',\n",
       " '__setstate__',\n",
       " '__sizeof__',\n",
       " '__str__',\n",
       " '__sub__',\n",
       " '__subclasshook__',\n",
       " '__weakref__',\n",
       " '_add_offset',\n",
       " '_add_timedeltalike_scalar',\n",
       " '_dtype',\n",
       " '_from_ordinal',\n",
       " '_maybe_convert_freq',\n",
       " '_require_matching_freq',\n",
       " 'asfreq',\n",
       " 'day',\n",
       " 'day_of_week',\n",
       " 'day_of_year',\n",
       " 'dayofweek',\n",
       " 'dayofyear',\n",
       " 'days_in_month',\n",
       " 'daysinmonth',\n",
       " 'end_time',\n",
       " 'freq',\n",
       " 'freqstr',\n",
       " 'hour',\n",
       " 'is_leap_year',\n",
       " 'minute',\n",
       " 'month',\n",
       " 'now',\n",
       " 'ordinal',\n",
       " 'quarter',\n",
       " 'qyear',\n",
       " 'second',\n",
       " 'start_time',\n",
       " 'strftime',\n",
       " 'to_timestamp',\n",
       " 'week',\n",
       " 'weekday',\n",
       " 'weekofyear',\n",
       " 'year']"
      ]
     },
     "execution_count": 89,
     "metadata": {},
     "output_type": "execute_result"
    }
   ],
   "source": [
    "dir(p)"
   ]
  },
  {
   "cell_type": "code",
   "execution_count": 90,
   "id": "cdb2a796-0e02-45ac-a2a3-e6d401f61855",
   "metadata": {},
   "outputs": [
    {
     "data": {
      "text/plain": [
       "Timestamp('2020-01-01 00:00:00')"
      ]
     },
     "execution_count": 90,
     "metadata": {},
     "output_type": "execute_result"
    }
   ],
   "source": [
    "p.start_time"
   ]
  },
  {
   "cell_type": "code",
   "execution_count": 91,
   "id": "ae4b0be9-6e4f-41cb-ae3c-51fa76862c93",
   "metadata": {},
   "outputs": [
    {
     "data": {
      "text/plain": [
       "Timestamp('2020-12-31 23:59:59.999999999')"
      ]
     },
     "execution_count": 91,
     "metadata": {},
     "output_type": "execute_result"
    }
   ],
   "source": [
    "p.end_time"
   ]
  },
  {
   "cell_type": "code",
   "execution_count": 92,
   "id": "9e736ca3-46ab-4de9-be2a-0b890f8505f3",
   "metadata": {},
   "outputs": [
    {
     "data": {
      "text/plain": [
       "Period('2020-01', 'M')"
      ]
     },
     "execution_count": 92,
     "metadata": {},
     "output_type": "execute_result"
    }
   ],
   "source": [
    "a = pd.Period(\"2020-01\",freq = \"M\")\n",
    "a"
   ]
  },
  {
   "cell_type": "code",
   "execution_count": 93,
   "id": "d48b3f15-ea3a-4d3f-80c1-7477e3ff65a2",
   "metadata": {},
   "outputs": [
    {
     "data": {
      "text/plain": [
       "Timestamp('2020-01-01 00:00:00')"
      ]
     },
     "execution_count": 93,
     "metadata": {},
     "output_type": "execute_result"
    }
   ],
   "source": [
    "a.start_time"
   ]
  },
  {
   "cell_type": "code",
   "execution_count": 94,
   "id": "8dbede9f-849e-45b1-a13b-f2e31066c234",
   "metadata": {},
   "outputs": [
    {
     "data": {
      "text/plain": [
       "Timestamp('2020-01-31 23:59:59.999999999')"
      ]
     },
     "execution_count": 94,
     "metadata": {},
     "output_type": "execute_result"
    }
   ],
   "source": [
    "a.end_time"
   ]
  },
  {
   "cell_type": "code",
   "execution_count": 95,
   "id": "20555673-2c13-4ef2-bc49-075a8c1596c5",
   "metadata": {},
   "outputs": [
    {
     "data": {
      "text/plain": [
       "Period('2020-06', 'M')"
      ]
     },
     "execution_count": 95,
     "metadata": {},
     "output_type": "execute_result"
    }
   ],
   "source": [
    "a + 5"
   ]
  },
  {
   "cell_type": "code",
   "execution_count": 96,
   "id": "c6076981-719a-4f85-ab9b-65f75d26446a",
   "metadata": {},
   "outputs": [
    {
     "data": {
      "text/plain": [
       "Period('2019-10', 'M')"
      ]
     },
     "execution_count": 96,
     "metadata": {},
     "output_type": "execute_result"
    }
   ],
   "source": [
    "a - 3"
   ]
  },
  {
   "cell_type": "code",
   "execution_count": 97,
   "id": "1de6a4af-7645-4f25-8e63-3a3e388274ef",
   "metadata": {},
   "outputs": [
    {
     "data": {
      "text/plain": [
       "<5 * YearEnds: month=12>"
      ]
     },
     "execution_count": 97,
     "metadata": {},
     "output_type": "execute_result"
    }
   ],
   "source": [
    "p - pd.Period(\"2015\")"
   ]
  },
  {
   "cell_type": "code",
   "execution_count": 99,
   "id": "7a03f2ab-543c-4fa4-a39c-a1f74ccb3458",
   "metadata": {},
   "outputs": [
    {
     "data": {
      "text/plain": [
       "PeriodIndex(['2019-01', '2019-02', '2019-03', '2019-04', '2019-05', '2019-06',\n",
       "             '2019-07', '2019-08'],\n",
       "            dtype='period[M]')"
      ]
     },
     "execution_count": 99,
     "metadata": {},
     "output_type": "execute_result"
    }
   ],
   "source": [
    "rng = pd.period_range(start = \"2019-01-01\", end= \"2019-08-30\", freq= \"M\")\n",
    "rng"
   ]
  },
  {
   "cell_type": "code",
   "execution_count": 100,
   "id": "1de76673-2d58-49d1-b646-f7af2f948e56",
   "metadata": {},
   "outputs": [
    {
     "data": {
      "text/plain": [
       "2019-01    0\n",
       "2019-02    1\n",
       "2019-03    2\n",
       "2019-04    3\n",
       "2019-05    4\n",
       "2019-06    5\n",
       "2019-07    6\n",
       "2019-08    7\n",
       "Freq: M, dtype: int64"
      ]
     },
     "execution_count": 100,
     "metadata": {},
     "output_type": "execute_result"
    }
   ],
   "source": [
    "pd.Series(range(8), index = rng)"
   ]
  },
  {
   "cell_type": "code",
   "execution_count": 101,
   "id": "bebcd2c3-5726-41cb-a851-45c16a399650",
   "metadata": {},
   "outputs": [
    {
     "data": {
      "text/plain": [
       "Period('2019', 'A-DEC')"
      ]
     },
     "execution_count": 101,
     "metadata": {},
     "output_type": "execute_result"
    }
   ],
   "source": [
    "p = pd.Period(\"2019\",freq = \"A-DEC\")\n",
    "p"
   ]
  },
  {
   "cell_type": "code",
   "execution_count": 102,
   "id": "faf67549-20f4-4c6d-a777-50fab794c640",
   "metadata": {},
   "outputs": [
    {
     "data": {
      "text/plain": [
       "Period('2019-01', 'M')"
      ]
     },
     "execution_count": 102,
     "metadata": {},
     "output_type": "execute_result"
    }
   ],
   "source": [
    "p.asfreq(\"M\",how = \"start\")"
   ]
  },
  {
   "cell_type": "code",
   "execution_count": 103,
   "id": "698ae808-793e-4d52-9623-e96701611d74",
   "metadata": {},
   "outputs": [
    {
     "data": {
      "text/plain": [
       "Period('2019-12', 'M')"
      ]
     },
     "execution_count": 103,
     "metadata": {},
     "output_type": "execute_result"
    }
   ],
   "source": [
    "p.asfreq(\"M\",how = \"end\")"
   ]
  },
  {
   "cell_type": "code",
   "execution_count": 104,
   "id": "3dbc2f71-a31f-4a5d-884e-a50581b46b52",
   "metadata": {},
   "outputs": [
    {
     "data": {
      "text/plain": [
       "Period('2019Q4', 'Q-DEC')"
      ]
     },
     "execution_count": 104,
     "metadata": {},
     "output_type": "execute_result"
    }
   ],
   "source": [
    "p = pd.Period(\"2019Q4\",freq = \"Q-DEC\")\n",
    "p"
   ]
  },
  {
   "cell_type": "code",
   "execution_count": 105,
   "id": "97b4495b-07dd-4f60-962f-beb0acb1b6ca",
   "metadata": {},
   "outputs": [
    {
     "data": {
      "text/plain": [
       "Timestamp('2019-12-31 23:59:59.999999999')"
      ]
     },
     "execution_count": 105,
     "metadata": {},
     "output_type": "execute_result"
    }
   ],
   "source": [
    "p.end_time"
   ]
  },
  {
   "cell_type": "code",
   "execution_count": 106,
   "id": "98dad9ce-3b20-4db1-9d62-51c5a2574da3",
   "metadata": {},
   "outputs": [
    {
     "data": {
      "text/plain": [
       "PeriodIndex(['2019Q3', '2019Q4', '2020Q1', '2020Q2', '2020Q3', '2020Q4'], dtype='period[Q-JAN]')"
      ]
     },
     "execution_count": 106,
     "metadata": {},
     "output_type": "execute_result"
    }
   ],
   "source": [
    "rng = pd.period_range(start = \"2019Q3\", end= \"2020Q4\", freq= \"Q-JAN\")\n",
    "rng"
   ]
  },
  {
   "cell_type": "code",
   "execution_count": 107,
   "id": "4a67d4ea-3f02-48a8-bc4e-3c26c93d0261",
   "metadata": {},
   "outputs": [
    {
     "data": {
      "text/plain": [
       "2019Q3    0\n",
       "2019Q4    1\n",
       "2020Q1    2\n",
       "2020Q2    3\n",
       "2020Q3    4\n",
       "2020Q4    5\n",
       "Freq: Q-JAN, dtype: int64"
      ]
     },
     "execution_count": 107,
     "metadata": {},
     "output_type": "execute_result"
    }
   ],
   "source": [
    "ts = pd.Series(range(len(rng)), index = rng)\n",
    "ts"
   ]
  },
  {
   "cell_type": "code",
   "execution_count": 110,
   "id": "7c842dba-d21d-462b-897f-3172fe5f5907",
   "metadata": {},
   "outputs": [
    {
     "data": {
      "text/plain": [
       "DatetimeIndex(['2020-01-31', '2020-02-29', '2020-03-31', '2020-04-30',\n",
       "               '2020-05-31'],\n",
       "              dtype='datetime64[ns]', freq='M')"
      ]
     },
     "execution_count": 110,
     "metadata": {},
     "output_type": "execute_result"
    }
   ],
   "source": [
    "rng = pd.date_range(start = \"2020-01-01\", periods= 5, freq= \"M\")\n",
    "ts = pd.Series(range(len(rng)), index = rng)\n",
    "ts.index"
   ]
  },
  {
   "cell_type": "code",
   "execution_count": 112,
   "id": "af64b229-90da-473e-86f9-7ab9a40495ba",
   "metadata": {},
   "outputs": [
    {
     "data": {
      "text/plain": [
       "PeriodIndex(['2020-01', '2020-02', '2020-03', '2020-04', '2020-05'], dtype='period[M]')"
      ]
     },
     "execution_count": 112,
     "metadata": {},
     "output_type": "execute_result"
    }
   ],
   "source": [
    "pts = ts.to_period()\n",
    "pts.index"
   ]
  },
  {
   "cell_type": "code",
   "execution_count": 113,
   "id": "90241488-6fcb-4641-8c43-b184bb953eb7",
   "metadata": {},
   "outputs": [
    {
     "data": {
      "text/html": [
       "<div>\n",
       "<style scoped>\n",
       "    .dataframe tbody tr th:only-of-type {\n",
       "        vertical-align: middle;\n",
       "    }\n",
       "\n",
       "    .dataframe tbody tr th {\n",
       "        vertical-align: top;\n",
       "    }\n",
       "\n",
       "    .dataframe thead th {\n",
       "        text-align: right;\n",
       "    }\n",
       "</style>\n",
       "<table border=\"1\" class=\"dataframe\">\n",
       "  <thead>\n",
       "    <tr style=\"text-align: right;\">\n",
       "      <th></th>\n",
       "      <th>Open</th>\n",
       "      <th>High</th>\n",
       "      <th>Low</th>\n",
       "      <th>Close</th>\n",
       "      <th>Adj Close</th>\n",
       "      <th>Volume</th>\n",
       "    </tr>\n",
       "    <tr>\n",
       "      <th>Date</th>\n",
       "      <th></th>\n",
       "      <th></th>\n",
       "      <th></th>\n",
       "      <th></th>\n",
       "      <th></th>\n",
       "      <th></th>\n",
       "    </tr>\n",
       "  </thead>\n",
       "  <tbody>\n",
       "    <tr>\n",
       "      <th>2012-05-18</th>\n",
       "      <td>42.049999</td>\n",
       "      <td>45.000000</td>\n",
       "      <td>38.000000</td>\n",
       "      <td>38.230000</td>\n",
       "      <td>38.230000</td>\n",
       "      <td>573576400</td>\n",
       "    </tr>\n",
       "    <tr>\n",
       "      <th>2012-05-21</th>\n",
       "      <td>36.529999</td>\n",
       "      <td>36.660000</td>\n",
       "      <td>33.000000</td>\n",
       "      <td>34.029999</td>\n",
       "      <td>34.029999</td>\n",
       "      <td>168192700</td>\n",
       "    </tr>\n",
       "    <tr>\n",
       "      <th>2012-05-22</th>\n",
       "      <td>32.610001</td>\n",
       "      <td>33.590000</td>\n",
       "      <td>30.940001</td>\n",
       "      <td>31.000000</td>\n",
       "      <td>31.000000</td>\n",
       "      <td>101786600</td>\n",
       "    </tr>\n",
       "    <tr>\n",
       "      <th>2012-05-23</th>\n",
       "      <td>31.370001</td>\n",
       "      <td>32.500000</td>\n",
       "      <td>31.360001</td>\n",
       "      <td>32.000000</td>\n",
       "      <td>32.000000</td>\n",
       "      <td>73600000</td>\n",
       "    </tr>\n",
       "    <tr>\n",
       "      <th>2012-05-24</th>\n",
       "      <td>32.950001</td>\n",
       "      <td>33.209999</td>\n",
       "      <td>31.770000</td>\n",
       "      <td>33.029999</td>\n",
       "      <td>33.029999</td>\n",
       "      <td>50237200</td>\n",
       "    </tr>\n",
       "  </tbody>\n",
       "</table>\n",
       "</div>"
      ],
      "text/plain": [
       "                 Open       High        Low      Close  Adj Close     Volume\n",
       "Date                                                                        \n",
       "2012-05-18  42.049999  45.000000  38.000000  38.230000  38.230000  573576400\n",
       "2012-05-21  36.529999  36.660000  33.000000  34.029999  34.029999  168192700\n",
       "2012-05-22  32.610001  33.590000  30.940001  31.000000  31.000000  101786600\n",
       "2012-05-23  31.370001  32.500000  31.360001  32.000000  32.000000   73600000\n",
       "2012-05-24  32.950001  33.209999  31.770000  33.029999  33.029999   50237200"
      ]
     },
     "execution_count": 113,
     "metadata": {},
     "output_type": "execute_result"
    }
   ],
   "source": [
    "fb.head()"
   ]
  },
  {
   "cell_type": "code",
   "execution_count": 115,
   "id": "e010bd9c-83f8-4da6-8703-da3f679e2b6c",
   "metadata": {},
   "outputs": [
    {
     "data": {
      "text/html": [
       "<div>\n",
       "<style scoped>\n",
       "    .dataframe tbody tr th:only-of-type {\n",
       "        vertical-align: middle;\n",
       "    }\n",
       "\n",
       "    .dataframe tbody tr th {\n",
       "        vertical-align: top;\n",
       "    }\n",
       "\n",
       "    .dataframe thead th {\n",
       "        text-align: right;\n",
       "    }\n",
       "</style>\n",
       "<table border=\"1\" class=\"dataframe\">\n",
       "  <thead>\n",
       "    <tr style=\"text-align: right;\">\n",
       "      <th></th>\n",
       "      <th>Open</th>\n",
       "      <th>High</th>\n",
       "      <th>Low</th>\n",
       "      <th>Close</th>\n",
       "      <th>Adj Close</th>\n",
       "      <th>Volume</th>\n",
       "    </tr>\n",
       "    <tr>\n",
       "      <th>Date</th>\n",
       "      <th></th>\n",
       "      <th></th>\n",
       "      <th></th>\n",
       "      <th></th>\n",
       "      <th></th>\n",
       "      <th></th>\n",
       "    </tr>\n",
       "  </thead>\n",
       "  <tbody>\n",
       "    <tr>\n",
       "      <th>2012-05-31</th>\n",
       "      <td>33.015556</td>\n",
       "      <td>33.868889</td>\n",
       "      <td>31.057778</td>\n",
       "      <td>31.870000</td>\n",
       "      <td>31.870000</td>\n",
       "      <td>1.390570e+08</td>\n",
       "    </tr>\n",
       "    <tr>\n",
       "      <th>2012-06-30</th>\n",
       "      <td>29.537143</td>\n",
       "      <td>30.232381</td>\n",
       "      <td>28.893333</td>\n",
       "      <td>29.540476</td>\n",
       "      <td>29.540476</td>\n",
       "      <td>3.180526e+07</td>\n",
       "    </tr>\n",
       "    <tr>\n",
       "      <th>2012-07-31</th>\n",
       "      <td>29.143333</td>\n",
       "      <td>29.598095</td>\n",
       "      <td>28.437619</td>\n",
       "      <td>28.880000</td>\n",
       "      <td>28.880000</td>\n",
       "      <td>2.477094e+07</td>\n",
       "    </tr>\n",
       "    <tr>\n",
       "      <th>2012-08-31</th>\n",
       "      <td>20.287391</td>\n",
       "      <td>20.644783</td>\n",
       "      <td>19.768696</td>\n",
       "      <td>20.108261</td>\n",
       "      <td>20.108261</td>\n",
       "      <td>5.008456e+07</td>\n",
       "    </tr>\n",
       "    <tr>\n",
       "      <th>2012-09-30</th>\n",
       "      <td>20.629474</td>\n",
       "      <td>21.089474</td>\n",
       "      <td>20.170526</td>\n",
       "      <td>20.627895</td>\n",
       "      <td>20.627895</td>\n",
       "      <td>5.571809e+07</td>\n",
       "    </tr>\n",
       "    <tr>\n",
       "      <th>...</th>\n",
       "      <td>...</td>\n",
       "      <td>...</td>\n",
       "      <td>...</td>\n",
       "      <td>...</td>\n",
       "      <td>...</td>\n",
       "      <td>...</td>\n",
       "    </tr>\n",
       "    <tr>\n",
       "      <th>2021-11-30</th>\n",
       "      <td>337.244761</td>\n",
       "      <td>341.498093</td>\n",
       "      <td>333.200953</td>\n",
       "      <td>336.529999</td>\n",
       "      <td>336.529999</td>\n",
       "      <td>2.100595e+07</td>\n",
       "    </tr>\n",
       "    <tr>\n",
       "      <th>2021-12-31</th>\n",
       "      <td>330.681365</td>\n",
       "      <td>335.813182</td>\n",
       "      <td>326.123638</td>\n",
       "      <td>330.845910</td>\n",
       "      <td>330.845910</td>\n",
       "      <td>1.992031e+07</td>\n",
       "    </tr>\n",
       "    <tr>\n",
       "      <th>2022-01-31</th>\n",
       "      <td>319.564999</td>\n",
       "      <td>325.095502</td>\n",
       "      <td>314.112502</td>\n",
       "      <td>319.407002</td>\n",
       "      <td>319.407002</td>\n",
       "      <td>2.136186e+07</td>\n",
       "    </tr>\n",
       "    <tr>\n",
       "      <th>2022-02-28</th>\n",
       "      <td>228.803158</td>\n",
       "      <td>233.485790</td>\n",
       "      <td>223.977367</td>\n",
       "      <td>228.437368</td>\n",
       "      <td>228.437368</td>\n",
       "      <td>5.937051e+07</td>\n",
       "    </tr>\n",
       "    <tr>\n",
       "      <th>2022-03-31</th>\n",
       "      <td>201.834999</td>\n",
       "      <td>205.954444</td>\n",
       "      <td>198.201112</td>\n",
       "      <td>202.305557</td>\n",
       "      <td>202.305557</td>\n",
       "      <td>3.253702e+07</td>\n",
       "    </tr>\n",
       "  </tbody>\n",
       "</table>\n",
       "<p>119 rows × 6 columns</p>\n",
       "</div>"
      ],
      "text/plain": [
       "                  Open        High         Low       Close   Adj Close  \\\n",
       "Date                                                                     \n",
       "2012-05-31   33.015556   33.868889   31.057778   31.870000   31.870000   \n",
       "2012-06-30   29.537143   30.232381   28.893333   29.540476   29.540476   \n",
       "2012-07-31   29.143333   29.598095   28.437619   28.880000   28.880000   \n",
       "2012-08-31   20.287391   20.644783   19.768696   20.108261   20.108261   \n",
       "2012-09-30   20.629474   21.089474   20.170526   20.627895   20.627895   \n",
       "...                ...         ...         ...         ...         ...   \n",
       "2021-11-30  337.244761  341.498093  333.200953  336.529999  336.529999   \n",
       "2021-12-31  330.681365  335.813182  326.123638  330.845910  330.845910   \n",
       "2022-01-31  319.564999  325.095502  314.112502  319.407002  319.407002   \n",
       "2022-02-28  228.803158  233.485790  223.977367  228.437368  228.437368   \n",
       "2022-03-31  201.834999  205.954444  198.201112  202.305557  202.305557   \n",
       "\n",
       "                  Volume  \n",
       "Date                      \n",
       "2012-05-31  1.390570e+08  \n",
       "2012-06-30  3.180526e+07  \n",
       "2012-07-31  2.477094e+07  \n",
       "2012-08-31  5.008456e+07  \n",
       "2012-09-30  5.571809e+07  \n",
       "...                  ...  \n",
       "2021-11-30  2.100595e+07  \n",
       "2021-12-31  1.992031e+07  \n",
       "2022-01-31  2.136186e+07  \n",
       "2022-02-28  5.937051e+07  \n",
       "2022-03-31  3.253702e+07  \n",
       "\n",
       "[119 rows x 6 columns]"
      ]
     },
     "execution_count": 115,
     "metadata": {},
     "output_type": "execute_result"
    }
   ],
   "source": [
    "fb.resample(\"M\").mean()"
   ]
  },
  {
   "cell_type": "code",
   "execution_count": 117,
   "id": "b83f9cfe-295b-4625-b9c8-527e7b803386",
   "metadata": {},
   "outputs": [
    {
     "data": {
      "text/plain": [
       "<Axes: xlabel='Date'>"
      ]
     },
     "execution_count": 117,
     "metadata": {},
     "output_type": "execute_result"
    },
    {
     "data": {
      "image/png": "[encoded data removed]",
      "text/plain": [
       "<Figure size 640x480 with 1 Axes>"
      ]
     },
     "metadata": {},
     "output_type": "display_data"
    }
   ],
   "source": [
    "fb.Close.resample(\"Q\").mean().plot()"
   ]
  },
  {
   "cell_type": "code",
   "execution_count": 118,
   "id": "98d8adf5-9b7b-41ce-89df-caf1203a0f87",
   "metadata": {},
   "outputs": [
    {
     "data": {
      "text/plain": [
       "<Axes: xlabel='Date'>"
      ]
     },
     "execution_count": 118,
     "metadata": {},
     "output_type": "execute_result"
    },
    {
     "data": {
      "image/png": "[encoded data removed]",
      "text/plain": [
       "<Figure size 640x480 with 1 Axes>"
      ]
     },
     "metadata": {},
     "output_type": "display_data"
    }
   ],
   "source": [
    "fb.Close.resample(\"Q\").mean().plot(kind = \"bar\")"
   ]
  },
  {
   "cell_type": "code",
   "execution_count": 119,
   "id": "1e3ed4ca-f796-4c12-986a-094f96deaba7",
   "metadata": {},
   "outputs": [
    {
     "data": {
      "text/html": [
       "<div>\n",
       "<style scoped>\n",
       "    .dataframe tbody tr th:only-of-type {\n",
       "        vertical-align: middle;\n",
       "    }\n",
       "\n",
       "    .dataframe tbody tr th {\n",
       "        vertical-align: top;\n",
       "    }\n",
       "\n",
       "    .dataframe thead th {\n",
       "        text-align: right;\n",
       "    }\n",
       "</style>\n",
       "<table border=\"1\" class=\"dataframe\">\n",
       "  <thead>\n",
       "    <tr style=\"text-align: right;\">\n",
       "      <th></th>\n",
       "      <th>Close</th>\n",
       "    </tr>\n",
       "    <tr>\n",
       "      <th>Date</th>\n",
       "      <th></th>\n",
       "    </tr>\n",
       "  </thead>\n",
       "  <tbody>\n",
       "    <tr>\n",
       "      <th>2019-03-01</th>\n",
       "      <td>162.279999</td>\n",
       "    </tr>\n",
       "    <tr>\n",
       "      <th>2019-03-04</th>\n",
       "      <td>167.369995</td>\n",
       "    </tr>\n",
       "    <tr>\n",
       "      <th>2019-03-05</th>\n",
       "      <td>171.259995</td>\n",
       "    </tr>\n",
       "    <tr>\n",
       "      <th>2019-03-06</th>\n",
       "      <td>172.509995</td>\n",
       "    </tr>\n",
       "    <tr>\n",
       "      <th>2019-03-07</th>\n",
       "      <td>169.130005</td>\n",
       "    </tr>\n",
       "  </tbody>\n",
       "</table>\n",
       "</div>"
      ],
      "text/plain": [
       "                 Close\n",
       "Date                  \n",
       "2019-03-01  162.279999\n",
       "2019-03-04  167.369995\n",
       "2019-03-05  171.259995\n",
       "2019-03-06  172.509995\n",
       "2019-03-07  169.130005"
      ]
     },
     "execution_count": 119,
     "metadata": {},
     "output_type": "execute_result"
    }
   ],
   "source": [
    "fb1 = pd.DataFrame(fb.Close[\"2019-03\"])\n",
    "fb1.head()"
   ]
  },
  {
   "cell_type": "code",
   "execution_count": 122,
   "id": "4ada56d2-6c6c-485b-8da9-8d97000bc444",
   "metadata": {},
   "outputs": [
    {
     "data": {
      "text/html": [
       "<div>\n",
       "<style scoped>\n",
       "    .dataframe tbody tr th:only-of-type {\n",
       "        vertical-align: middle;\n",
       "    }\n",
       "\n",
       "    .dataframe tbody tr th {\n",
       "        vertical-align: top;\n",
       "    }\n",
       "\n",
       "    .dataframe thead th {\n",
       "        text-align: right;\n",
       "    }\n",
       "</style>\n",
       "<table border=\"1\" class=\"dataframe\">\n",
       "  <thead>\n",
       "    <tr style=\"text-align: right;\">\n",
       "      <th></th>\n",
       "      <th>Close</th>\n",
       "    </tr>\n",
       "    <tr>\n",
       "      <th>Date</th>\n",
       "      <th></th>\n",
       "    </tr>\n",
       "  </thead>\n",
       "  <tbody>\n",
       "    <tr>\n",
       "      <th>2019-03-01</th>\n",
       "      <td>NaN</td>\n",
       "    </tr>\n",
       "    <tr>\n",
       "      <th>2019-03-04</th>\n",
       "      <td>NaN</td>\n",
       "    </tr>\n",
       "    <tr>\n",
       "      <th>2019-03-05</th>\n",
       "      <td>162.279999</td>\n",
       "    </tr>\n",
       "    <tr>\n",
       "      <th>2019-03-06</th>\n",
       "      <td>167.369995</td>\n",
       "    </tr>\n",
       "    <tr>\n",
       "      <th>2019-03-07</th>\n",
       "      <td>171.259995</td>\n",
       "    </tr>\n",
       "    <tr>\n",
       "      <th>2019-03-08</th>\n",
       "      <td>172.509995</td>\n",
       "    </tr>\n",
       "    <tr>\n",
       "      <th>2019-03-11</th>\n",
       "      <td>169.130005</td>\n",
       "    </tr>\n",
       "    <tr>\n",
       "      <th>2019-03-12</th>\n",
       "      <td>169.600006</td>\n",
       "    </tr>\n",
       "    <tr>\n",
       "      <th>2019-03-13</th>\n",
       "      <td>172.070007</td>\n",
       "    </tr>\n",
       "    <tr>\n",
       "      <th>2019-03-14</th>\n",
       "      <td>171.919998</td>\n",
       "    </tr>\n",
       "    <tr>\n",
       "      <th>2019-03-15</th>\n",
       "      <td>173.369995</td>\n",
       "    </tr>\n",
       "    <tr>\n",
       "      <th>2019-03-18</th>\n",
       "      <td>170.169998</td>\n",
       "    </tr>\n",
       "    <tr>\n",
       "      <th>2019-03-19</th>\n",
       "      <td>165.979996</td>\n",
       "    </tr>\n",
       "    <tr>\n",
       "      <th>2019-03-20</th>\n",
       "      <td>160.470001</td>\n",
       "    </tr>\n",
       "    <tr>\n",
       "      <th>2019-03-21</th>\n",
       "      <td>161.570007</td>\n",
       "    </tr>\n",
       "    <tr>\n",
       "      <th>2019-03-22</th>\n",
       "      <td>165.440002</td>\n",
       "    </tr>\n",
       "    <tr>\n",
       "      <th>2019-03-25</th>\n",
       "      <td>166.080002</td>\n",
       "    </tr>\n",
       "    <tr>\n",
       "      <th>2019-03-26</th>\n",
       "      <td>164.339996</td>\n",
       "    </tr>\n",
       "    <tr>\n",
       "      <th>2019-03-27</th>\n",
       "      <td>166.289993</td>\n",
       "    </tr>\n",
       "    <tr>\n",
       "      <th>2019-03-28</th>\n",
       "      <td>167.679993</td>\n",
       "    </tr>\n",
       "    <tr>\n",
       "      <th>2019-03-29</th>\n",
       "      <td>165.869995</td>\n",
       "    </tr>\n",
       "  </tbody>\n",
       "</table>\n",
       "</div>"
      ],
      "text/plain": [
       "                 Close\n",
       "Date                  \n",
       "2019-03-01         NaN\n",
       "2019-03-04         NaN\n",
       "2019-03-05  162.279999\n",
       "2019-03-06  167.369995\n",
       "2019-03-07  171.259995\n",
       "2019-03-08  172.509995\n",
       "2019-03-11  169.130005\n",
       "2019-03-12  169.600006\n",
       "2019-03-13  172.070007\n",
       "2019-03-14  171.919998\n",
       "2019-03-15  173.369995\n",
       "2019-03-18  170.169998\n",
       "2019-03-19  165.979996\n",
       "2019-03-20  160.470001\n",
       "2019-03-21  161.570007\n",
       "2019-03-22  165.440002\n",
       "2019-03-25  166.080002\n",
       "2019-03-26  164.339996\n",
       "2019-03-27  166.289993\n",
       "2019-03-28  167.679993\n",
       "2019-03-29  165.869995"
      ]
     },
     "execution_count": 122,
     "metadata": {},
     "output_type": "execute_result"
    }
   ],
   "source": [
    "fb1.shift(2)"
   ]
  },
  {
   "cell_type": "code",
   "execution_count": 124,
   "id": "f62767e5-438f-415e-bc03-9cb1ce6eed6f",
   "metadata": {},
   "outputs": [
    {
     "data": {
      "text/html": [
       "<div>\n",
       "<style scoped>\n",
       "    .dataframe tbody tr th:only-of-type {\n",
       "        vertical-align: middle;\n",
       "    }\n",
       "\n",
       "    .dataframe tbody tr th {\n",
       "        vertical-align: top;\n",
       "    }\n",
       "\n",
       "    .dataframe thead th {\n",
       "        text-align: right;\n",
       "    }\n",
       "</style>\n",
       "<table border=\"1\" class=\"dataframe\">\n",
       "  <thead>\n",
       "    <tr style=\"text-align: right;\">\n",
       "      <th></th>\n",
       "      <th>Close</th>\n",
       "    </tr>\n",
       "    <tr>\n",
       "      <th>Date</th>\n",
       "      <th></th>\n",
       "    </tr>\n",
       "  </thead>\n",
       "  <tbody>\n",
       "    <tr>\n",
       "      <th>2019-03-01</th>\n",
       "      <td>171.259995</td>\n",
       "    </tr>\n",
       "    <tr>\n",
       "      <th>2019-03-04</th>\n",
       "      <td>172.509995</td>\n",
       "    </tr>\n",
       "    <tr>\n",
       "      <th>2019-03-05</th>\n",
       "      <td>169.130005</td>\n",
       "    </tr>\n",
       "    <tr>\n",
       "      <th>2019-03-06</th>\n",
       "      <td>169.600006</td>\n",
       "    </tr>\n",
       "    <tr>\n",
       "      <th>2019-03-07</th>\n",
       "      <td>172.070007</td>\n",
       "    </tr>\n",
       "    <tr>\n",
       "      <th>2019-03-08</th>\n",
       "      <td>171.919998</td>\n",
       "    </tr>\n",
       "    <tr>\n",
       "      <th>2019-03-11</th>\n",
       "      <td>173.369995</td>\n",
       "    </tr>\n",
       "    <tr>\n",
       "      <th>2019-03-12</th>\n",
       "      <td>170.169998</td>\n",
       "    </tr>\n",
       "    <tr>\n",
       "      <th>2019-03-13</th>\n",
       "      <td>165.979996</td>\n",
       "    </tr>\n",
       "    <tr>\n",
       "      <th>2019-03-14</th>\n",
       "      <td>160.470001</td>\n",
       "    </tr>\n",
       "    <tr>\n",
       "      <th>2019-03-15</th>\n",
       "      <td>161.570007</td>\n",
       "    </tr>\n",
       "    <tr>\n",
       "      <th>2019-03-18</th>\n",
       "      <td>165.440002</td>\n",
       "    </tr>\n",
       "    <tr>\n",
       "      <th>2019-03-19</th>\n",
       "      <td>166.080002</td>\n",
       "    </tr>\n",
       "    <tr>\n",
       "      <th>2019-03-20</th>\n",
       "      <td>164.339996</td>\n",
       "    </tr>\n",
       "    <tr>\n",
       "      <th>2019-03-21</th>\n",
       "      <td>166.289993</td>\n",
       "    </tr>\n",
       "    <tr>\n",
       "      <th>2019-03-22</th>\n",
       "      <td>167.679993</td>\n",
       "    </tr>\n",
       "    <tr>\n",
       "      <th>2019-03-25</th>\n",
       "      <td>165.869995</td>\n",
       "    </tr>\n",
       "    <tr>\n",
       "      <th>2019-03-26</th>\n",
       "      <td>165.550003</td>\n",
       "    </tr>\n",
       "    <tr>\n",
       "      <th>2019-03-27</th>\n",
       "      <td>166.690002</td>\n",
       "    </tr>\n",
       "    <tr>\n",
       "      <th>2019-03-28</th>\n",
       "      <td>NaN</td>\n",
       "    </tr>\n",
       "    <tr>\n",
       "      <th>2019-03-29</th>\n",
       "      <td>NaN</td>\n",
       "    </tr>\n",
       "  </tbody>\n",
       "</table>\n",
       "</div>"
      ],
      "text/plain": [
       "                 Close\n",
       "Date                  \n",
       "2019-03-01  171.259995\n",
       "2019-03-04  172.509995\n",
       "2019-03-05  169.130005\n",
       "2019-03-06  169.600006\n",
       "2019-03-07  172.070007\n",
       "2019-03-08  171.919998\n",
       "2019-03-11  173.369995\n",
       "2019-03-12  170.169998\n",
       "2019-03-13  165.979996\n",
       "2019-03-14  160.470001\n",
       "2019-03-15  161.570007\n",
       "2019-03-18  165.440002\n",
       "2019-03-19  166.080002\n",
       "2019-03-20  164.339996\n",
       "2019-03-21  166.289993\n",
       "2019-03-22  167.679993\n",
       "2019-03-25  165.869995\n",
       "2019-03-26  165.550003\n",
       "2019-03-27  166.690002\n",
       "2019-03-28         NaN\n",
       "2019-03-29         NaN"
      ]
     },
     "execution_count": 124,
     "metadata": {},
     "output_type": "execute_result"
    }
   ],
   "source": [
    "fb1.shift(-2)"
   ]
  },
  {
   "cell_type": "code",
   "execution_count": 125,
   "id": "d28fff7b-cde4-401e-8e07-c3305ddc09c1",
   "metadata": {},
   "outputs": [
    {
     "data": {
      "text/html": [
       "<div>\n",
       "<style scoped>\n",
       "    .dataframe tbody tr th:only-of-type {\n",
       "        vertical-align: middle;\n",
       "    }\n",
       "\n",
       "    .dataframe tbody tr th {\n",
       "        vertical-align: top;\n",
       "    }\n",
       "\n",
       "    .dataframe thead th {\n",
       "        text-align: right;\n",
       "    }\n",
       "</style>\n",
       "<table border=\"1\" class=\"dataframe\">\n",
       "  <thead>\n",
       "    <tr style=\"text-align: right;\">\n",
       "      <th></th>\n",
       "      <th>Close</th>\n",
       "      <th>price a day ago</th>\n",
       "    </tr>\n",
       "    <tr>\n",
       "      <th>Date</th>\n",
       "      <th></th>\n",
       "      <th></th>\n",
       "    </tr>\n",
       "  </thead>\n",
       "  <tbody>\n",
       "    <tr>\n",
       "      <th>2019-03-01</th>\n",
       "      <td>162.279999</td>\n",
       "      <td>NaN</td>\n",
       "    </tr>\n",
       "    <tr>\n",
       "      <th>2019-03-04</th>\n",
       "      <td>167.369995</td>\n",
       "      <td>162.279999</td>\n",
       "    </tr>\n",
       "    <tr>\n",
       "      <th>2019-03-05</th>\n",
       "      <td>171.259995</td>\n",
       "      <td>167.369995</td>\n",
       "    </tr>\n",
       "    <tr>\n",
       "      <th>2019-03-06</th>\n",
       "      <td>172.509995</td>\n",
       "      <td>171.259995</td>\n",
       "    </tr>\n",
       "    <tr>\n",
       "      <th>2019-03-07</th>\n",
       "      <td>169.130005</td>\n",
       "      <td>172.509995</td>\n",
       "    </tr>\n",
       "  </tbody>\n",
       "</table>\n",
       "</div>"
      ],
      "text/plain": [
       "                 Close  price a day ago\n",
       "Date                                   \n",
       "2019-03-01  162.279999              NaN\n",
       "2019-03-04  167.369995       162.279999\n",
       "2019-03-05  171.259995       167.369995\n",
       "2019-03-06  172.509995       171.259995\n",
       "2019-03-07  169.130005       172.509995"
      ]
     },
     "execution_count": 125,
     "metadata": {},
     "output_type": "execute_result"
    }
   ],
   "source": [
    "fb1[\"price a day ago\"] = fb1.shift(1)\n",
    "fb1.head()"
   ]
  },
  {
   "cell_type": "code",
   "execution_count": 126,
   "id": "9a0a827d-254d-4e4f-88c6-478cb6075221",
   "metadata": {},
   "outputs": [
    {
     "data": {
      "text/html": [
       "<div>\n",
       "<style scoped>\n",
       "    .dataframe tbody tr th:only-of-type {\n",
       "        vertical-align: middle;\n",
       "    }\n",
       "\n",
       "    .dataframe tbody tr th {\n",
       "        vertical-align: top;\n",
       "    }\n",
       "\n",
       "    .dataframe thead th {\n",
       "        text-align: right;\n",
       "    }\n",
       "</style>\n",
       "<table border=\"1\" class=\"dataframe\">\n",
       "  <thead>\n",
       "    <tr style=\"text-align: right;\">\n",
       "      <th></th>\n",
       "      <th>Close</th>\n",
       "      <th>price a day ago</th>\n",
       "      <th>difference</th>\n",
       "    </tr>\n",
       "    <tr>\n",
       "      <th>Date</th>\n",
       "      <th></th>\n",
       "      <th></th>\n",
       "      <th></th>\n",
       "    </tr>\n",
       "  </thead>\n",
       "  <tbody>\n",
       "    <tr>\n",
       "      <th>2019-03-01</th>\n",
       "      <td>162.279999</td>\n",
       "      <td>NaN</td>\n",
       "      <td>NaN</td>\n",
       "    </tr>\n",
       "    <tr>\n",
       "      <th>2019-03-04</th>\n",
       "      <td>167.369995</td>\n",
       "      <td>162.279999</td>\n",
       "      <td>5.089996</td>\n",
       "    </tr>\n",
       "    <tr>\n",
       "      <th>2019-03-05</th>\n",
       "      <td>171.259995</td>\n",
       "      <td>167.369995</td>\n",
       "      <td>3.890000</td>\n",
       "    </tr>\n",
       "    <tr>\n",
       "      <th>2019-03-06</th>\n",
       "      <td>172.509995</td>\n",
       "      <td>171.259995</td>\n",
       "      <td>1.250000</td>\n",
       "    </tr>\n",
       "    <tr>\n",
       "      <th>2019-03-07</th>\n",
       "      <td>169.130005</td>\n",
       "      <td>172.509995</td>\n",
       "      <td>-3.379990</td>\n",
       "    </tr>\n",
       "  </tbody>\n",
       "</table>\n",
       "</div>"
      ],
      "text/plain": [
       "                 Close  price a day ago  difference\n",
       "Date                                               \n",
       "2019-03-01  162.279999              NaN         NaN\n",
       "2019-03-04  167.369995       162.279999    5.089996\n",
       "2019-03-05  171.259995       167.369995    3.890000\n",
       "2019-03-06  172.509995       171.259995    1.250000\n",
       "2019-03-07  169.130005       172.509995   -3.379990"
      ]
     },
     "execution_count": 126,
     "metadata": {},
     "output_type": "execute_result"
    }
   ],
   "source": [
    "fb1[\"difference\"] = fb1[\"Close\"] - fb1[\"price a day ago\"]\n",
    "fb1.head()"
   ]
  },
  {
   "cell_type": "code",
   "execution_count": 127,
   "id": "220245d6-4cfa-4c2f-9542-41ff1ee89a34",
   "metadata": {},
   "outputs": [
    {
     "data": {
      "text/html": [
       "<div>\n",
       "<style scoped>\n",
       "    .dataframe tbody tr th:only-of-type {\n",
       "        vertical-align: middle;\n",
       "    }\n",
       "\n",
       "    .dataframe tbody tr th {\n",
       "        vertical-align: top;\n",
       "    }\n",
       "\n",
       "    .dataframe thead th {\n",
       "        text-align: right;\n",
       "    }\n",
       "</style>\n",
       "<table border=\"1\" class=\"dataframe\">\n",
       "  <thead>\n",
       "    <tr style=\"text-align: right;\">\n",
       "      <th></th>\n",
       "      <th>Close</th>\n",
       "      <th>price a day ago</th>\n",
       "      <th>difference</th>\n",
       "      <th>percentage</th>\n",
       "    </tr>\n",
       "    <tr>\n",
       "      <th>Date</th>\n",
       "      <th></th>\n",
       "      <th></th>\n",
       "      <th></th>\n",
       "      <th></th>\n",
       "    </tr>\n",
       "  </thead>\n",
       "  <tbody>\n",
       "    <tr>\n",
       "      <th>2019-03-01</th>\n",
       "      <td>162.279999</td>\n",
       "      <td>NaN</td>\n",
       "      <td>NaN</td>\n",
       "      <td>NaN</td>\n",
       "    </tr>\n",
       "    <tr>\n",
       "      <th>2019-03-04</th>\n",
       "      <td>167.369995</td>\n",
       "      <td>162.279999</td>\n",
       "      <td>5.089996</td>\n",
       "      <td>3.136552</td>\n",
       "    </tr>\n",
       "    <tr>\n",
       "      <th>2019-03-05</th>\n",
       "      <td>171.259995</td>\n",
       "      <td>167.369995</td>\n",
       "      <td>3.890000</td>\n",
       "      <td>2.324192</td>\n",
       "    </tr>\n",
       "    <tr>\n",
       "      <th>2019-03-06</th>\n",
       "      <td>172.509995</td>\n",
       "      <td>171.259995</td>\n",
       "      <td>1.250000</td>\n",
       "      <td>0.729884</td>\n",
       "    </tr>\n",
       "    <tr>\n",
       "      <th>2019-03-07</th>\n",
       "      <td>169.130005</td>\n",
       "      <td>172.509995</td>\n",
       "      <td>-3.379990</td>\n",
       "      <td>-1.959301</td>\n",
       "    </tr>\n",
       "  </tbody>\n",
       "</table>\n",
       "</div>"
      ],
      "text/plain": [
       "                 Close  price a day ago  difference  percentage\n",
       "Date                                                           \n",
       "2019-03-01  162.279999              NaN         NaN         NaN\n",
       "2019-03-04  167.369995       162.279999    5.089996    3.136552\n",
       "2019-03-05  171.259995       167.369995    3.890000    2.324192\n",
       "2019-03-06  172.509995       171.259995    1.250000    0.729884\n",
       "2019-03-07  169.130005       172.509995   -3.379990   -1.959301"
      ]
     },
     "execution_count": 127,
     "metadata": {},
     "output_type": "execute_result"
    }
   ],
   "source": [
    "fb1[\"percentage\"] = (fb1[\"Close\"] - fb1[\"price a day ago\"])*100/ fb1[\"price a day ago\"]\n",
    "fb1.head()"
   ]
  },
  {
   "cell_type": "code",
   "execution_count": 129,
   "id": "5880aafd-c2ee-4aee-acea-3ca10abe2be3",
   "metadata": {},
   "outputs": [
    {
     "data": {
      "text/plain": [
       "DatetimeIndex(['2019-03-01', '2019-03-04', '2019-03-05', '2019-03-06',\n",
       "               '2019-03-07', '2019-03-08', '2019-03-11', '2019-03-12',\n",
       "               '2019-03-13', '2019-03-14', '2019-03-15', '2019-03-18',\n",
       "               '2019-03-19', '2019-03-20', '2019-03-21', '2019-03-22',\n",
       "               '2019-03-25', '2019-03-26', '2019-03-27', '2019-03-28',\n",
       "               '2019-03-29'],\n",
       "              dtype='datetime64[ns]', name='Date', freq=None)"
      ]
     },
     "execution_count": 129,
     "metadata": {},
     "output_type": "execute_result"
    }
   ],
   "source": [
    "fb2 = fb1[[\"Close\"]]\n",
    "fb2.index"
   ]
  },
  {
   "cell_type": "code",
   "execution_count": 131,
   "id": "4b8f6201-2921-4209-ae2b-c3a51b92e7be",
   "metadata": {},
   "outputs": [
    {
     "data": {
      "text/plain": [
       "DatetimeIndex(['2019-03-01', '2019-03-04', '2019-03-05', '2019-03-06',\n",
       "               '2019-03-07', '2019-03-08', '2019-03-11', '2019-03-12',\n",
       "               '2019-03-13', '2019-03-14', '2019-03-15', '2019-03-18',\n",
       "               '2019-03-19', '2019-03-20', '2019-03-21', '2019-03-22',\n",
       "               '2019-03-25', '2019-03-26', '2019-03-27', '2019-03-28',\n",
       "               '2019-03-29'],\n",
       "              dtype='datetime64[ns]', freq='B')"
      ]
     },
     "execution_count": 131,
     "metadata": {},
     "output_type": "execute_result"
    }
   ],
   "source": [
    "fb2.index =pd.date_range(\"2019-03-01\",periods = 21, freq = \"B\") # create freq\n",
    "fb2.index"
   ]
  },
  {
   "cell_type": "code",
   "execution_count": 132,
   "id": "e2779015-e3c0-4192-b973-7d0d2b993216",
   "metadata": {},
   "outputs": [
    {
     "name": "stderr",
     "output_type": "stream",
     "text": [
      "C:\\Users\\erdem\\AppData\\Local\\Temp\\ipykernel_8956\\2300340906.py:1: FutureWarning: tshift is deprecated and will be removed in a future version. Please use shift instead.\n",
      "  fb2.tshift(1)\n"
     ]
    },
    {
     "data": {
      "text/html": [
       "<div>\n",
       "<style scoped>\n",
       "    .dataframe tbody tr th:only-of-type {\n",
       "        vertical-align: middle;\n",
       "    }\n",
       "\n",
       "    .dataframe tbody tr th {\n",
       "        vertical-align: top;\n",
       "    }\n",
       "\n",
       "    .dataframe thead th {\n",
       "        text-align: right;\n",
       "    }\n",
       "</style>\n",
       "<table border=\"1\" class=\"dataframe\">\n",
       "  <thead>\n",
       "    <tr style=\"text-align: right;\">\n",
       "      <th></th>\n",
       "      <th>Close</th>\n",
       "    </tr>\n",
       "  </thead>\n",
       "  <tbody>\n",
       "    <tr>\n",
       "      <th>2019-03-04</th>\n",
       "      <td>162.279999</td>\n",
       "    </tr>\n",
       "    <tr>\n",
       "      <th>2019-03-05</th>\n",
       "      <td>167.369995</td>\n",
       "    </tr>\n",
       "    <tr>\n",
       "      <th>2019-03-06</th>\n",
       "      <td>171.259995</td>\n",
       "    </tr>\n",
       "    <tr>\n",
       "      <th>2019-03-07</th>\n",
       "      <td>172.509995</td>\n",
       "    </tr>\n",
       "    <tr>\n",
       "      <th>2019-03-08</th>\n",
       "      <td>169.130005</td>\n",
       "    </tr>\n",
       "    <tr>\n",
       "      <th>2019-03-11</th>\n",
       "      <td>169.600006</td>\n",
       "    </tr>\n",
       "    <tr>\n",
       "      <th>2019-03-12</th>\n",
       "      <td>172.070007</td>\n",
       "    </tr>\n",
       "    <tr>\n",
       "      <th>2019-03-13</th>\n",
       "      <td>171.919998</td>\n",
       "    </tr>\n",
       "    <tr>\n",
       "      <th>2019-03-14</th>\n",
       "      <td>173.369995</td>\n",
       "    </tr>\n",
       "    <tr>\n",
       "      <th>2019-03-15</th>\n",
       "      <td>170.169998</td>\n",
       "    </tr>\n",
       "    <tr>\n",
       "      <th>2019-03-18</th>\n",
       "      <td>165.979996</td>\n",
       "    </tr>\n",
       "    <tr>\n",
       "      <th>2019-03-19</th>\n",
       "      <td>160.470001</td>\n",
       "    </tr>\n",
       "    <tr>\n",
       "      <th>2019-03-20</th>\n",
       "      <td>161.570007</td>\n",
       "    </tr>\n",
       "    <tr>\n",
       "      <th>2019-03-21</th>\n",
       "      <td>165.440002</td>\n",
       "    </tr>\n",
       "    <tr>\n",
       "      <th>2019-03-22</th>\n",
       "      <td>166.080002</td>\n",
       "    </tr>\n",
       "    <tr>\n",
       "      <th>2019-03-25</th>\n",
       "      <td>164.339996</td>\n",
       "    </tr>\n",
       "    <tr>\n",
       "      <th>2019-03-26</th>\n",
       "      <td>166.289993</td>\n",
       "    </tr>\n",
       "    <tr>\n",
       "      <th>2019-03-27</th>\n",
       "      <td>167.679993</td>\n",
       "    </tr>\n",
       "    <tr>\n",
       "      <th>2019-03-28</th>\n",
       "      <td>165.869995</td>\n",
       "    </tr>\n",
       "    <tr>\n",
       "      <th>2019-03-29</th>\n",
       "      <td>165.550003</td>\n",
       "    </tr>\n",
       "    <tr>\n",
       "      <th>2019-04-01</th>\n",
       "      <td>166.690002</td>\n",
       "    </tr>\n",
       "  </tbody>\n",
       "</table>\n",
       "</div>"
      ],
      "text/plain": [
       "                 Close\n",
       "2019-03-04  162.279999\n",
       "2019-03-05  167.369995\n",
       "2019-03-06  171.259995\n",
       "2019-03-07  172.509995\n",
       "2019-03-08  169.130005\n",
       "2019-03-11  169.600006\n",
       "2019-03-12  172.070007\n",
       "2019-03-13  171.919998\n",
       "2019-03-14  173.369995\n",
       "2019-03-15  170.169998\n",
       "2019-03-18  165.979996\n",
       "2019-03-19  160.470001\n",
       "2019-03-20  161.570007\n",
       "2019-03-21  165.440002\n",
       "2019-03-22  166.080002\n",
       "2019-03-25  164.339996\n",
       "2019-03-26  166.289993\n",
       "2019-03-27  167.679993\n",
       "2019-03-28  165.869995\n",
       "2019-03-29  165.550003\n",
       "2019-04-01  166.690002"
      ]
     },
     "execution_count": 132,
     "metadata": {},
     "output_type": "execute_result"
    }
   ],
   "source": [
    "fb2.tshift(1)"
   ]
  },
  {
   "cell_type": "code",
   "execution_count": 133,
   "id": "99e906ec-9c37-4f37-9100-0007ba6cf83a",
   "metadata": {},
   "outputs": [
    {
     "name": "stderr",
     "output_type": "stream",
     "text": [
      "C:\\Users\\erdem\\AppData\\Local\\Temp\\ipykernel_8956\\3304425456.py:1: FutureWarning: tshift is deprecated and will be removed in a future version. Please use shift instead.\n",
      "  fb2.tshift(-2)\n"
     ]
    },
    {
     "data": {
      "text/html": [
       "<div>\n",
       "<style scoped>\n",
       "    .dataframe tbody tr th:only-of-type {\n",
       "        vertical-align: middle;\n",
       "    }\n",
       "\n",
       "    .dataframe tbody tr th {\n",
       "        vertical-align: top;\n",
       "    }\n",
       "\n",
       "    .dataframe thead th {\n",
       "        text-align: right;\n",
       "    }\n",
       "</style>\n",
       "<table border=\"1\" class=\"dataframe\">\n",
       "  <thead>\n",
       "    <tr style=\"text-align: right;\">\n",
       "      <th></th>\n",
       "      <th>Close</th>\n",
       "    </tr>\n",
       "  </thead>\n",
       "  <tbody>\n",
       "    <tr>\n",
       "      <th>2019-02-27</th>\n",
       "      <td>162.279999</td>\n",
       "    </tr>\n",
       "    <tr>\n",
       "      <th>2019-02-28</th>\n",
       "      <td>167.369995</td>\n",
       "    </tr>\n",
       "    <tr>\n",
       "      <th>2019-03-01</th>\n",
       "      <td>171.259995</td>\n",
       "    </tr>\n",
       "    <tr>\n",
       "      <th>2019-03-04</th>\n",
       "      <td>172.509995</td>\n",
       "    </tr>\n",
       "    <tr>\n",
       "      <th>2019-03-05</th>\n",
       "      <td>169.130005</td>\n",
       "    </tr>\n",
       "    <tr>\n",
       "      <th>2019-03-06</th>\n",
       "      <td>169.600006</td>\n",
       "    </tr>\n",
       "    <tr>\n",
       "      <th>2019-03-07</th>\n",
       "      <td>172.070007</td>\n",
       "    </tr>\n",
       "    <tr>\n",
       "      <th>2019-03-08</th>\n",
       "      <td>171.919998</td>\n",
       "    </tr>\n",
       "    <tr>\n",
       "      <th>2019-03-11</th>\n",
       "      <td>173.369995</td>\n",
       "    </tr>\n",
       "    <tr>\n",
       "      <th>2019-03-12</th>\n",
       "      <td>170.169998</td>\n",
       "    </tr>\n",
       "    <tr>\n",
       "      <th>2019-03-13</th>\n",
       "      <td>165.979996</td>\n",
       "    </tr>\n",
       "    <tr>\n",
       "      <th>2019-03-14</th>\n",
       "      <td>160.470001</td>\n",
       "    </tr>\n",
       "    <tr>\n",
       "      <th>2019-03-15</th>\n",
       "      <td>161.570007</td>\n",
       "    </tr>\n",
       "    <tr>\n",
       "      <th>2019-03-18</th>\n",
       "      <td>165.440002</td>\n",
       "    </tr>\n",
       "    <tr>\n",
       "      <th>2019-03-19</th>\n",
       "      <td>166.080002</td>\n",
       "    </tr>\n",
       "    <tr>\n",
       "      <th>2019-03-20</th>\n",
       "      <td>164.339996</td>\n",
       "    </tr>\n",
       "    <tr>\n",
       "      <th>2019-03-21</th>\n",
       "      <td>166.289993</td>\n",
       "    </tr>\n",
       "    <tr>\n",
       "      <th>2019-03-22</th>\n",
       "      <td>167.679993</td>\n",
       "    </tr>\n",
       "    <tr>\n",
       "      <th>2019-03-25</th>\n",
       "      <td>165.869995</td>\n",
       "    </tr>\n",
       "    <tr>\n",
       "      <th>2019-03-26</th>\n",
       "      <td>165.550003</td>\n",
       "    </tr>\n",
       "    <tr>\n",
       "      <th>2019-03-27</th>\n",
       "      <td>166.690002</td>\n",
       "    </tr>\n",
       "  </tbody>\n",
       "</table>\n",
       "</div>"
      ],
      "text/plain": [
       "                 Close\n",
       "2019-02-27  162.279999\n",
       "2019-02-28  167.369995\n",
       "2019-03-01  171.259995\n",
       "2019-03-04  172.509995\n",
       "2019-03-05  169.130005\n",
       "2019-03-06  169.600006\n",
       "2019-03-07  172.070007\n",
       "2019-03-08  171.919998\n",
       "2019-03-11  173.369995\n",
       "2019-03-12  170.169998\n",
       "2019-03-13  165.979996\n",
       "2019-03-14  160.470001\n",
       "2019-03-15  161.570007\n",
       "2019-03-18  165.440002\n",
       "2019-03-19  166.080002\n",
       "2019-03-20  164.339996\n",
       "2019-03-21  166.289993\n",
       "2019-03-22  167.679993\n",
       "2019-03-25  165.869995\n",
       "2019-03-26  165.550003\n",
       "2019-03-27  166.690002"
      ]
     },
     "execution_count": 133,
     "metadata": {},
     "output_type": "execute_result"
    }
   ],
   "source": [
    "fb2.tshift(-2)"
   ]
  },
  {
   "cell_type": "code",
   "execution_count": 136,
   "id": "48203aba-b6a9-4899-b6d9-3e96a213e495",
   "metadata": {},
   "outputs": [
    {
     "data": {
      "text/plain": [
       "<Axes: xlabel='Date'>"
      ]
     },
     "execution_count": 136,
     "metadata": {},
     "output_type": "execute_result"
    },
    {
     "data": {
      "image/png": "[encoded data removed]",
      "text/plain": [
       "<Figure size 640x480 with 1 Axes>"
      ]
     },
     "metadata": {},
     "output_type": "display_data"
    }
   ],
   "source": [
    "fb.Close.plot()\n",
    "fb.Close.rolling(30).mean().plot() # 30 day mean\n"
   ]
  },
  {
   "cell_type": "code",
   "execution_count": 137,
   "id": "638f7433-1133-4d28-a52a-4e71e80365bd",
   "metadata": {},
   "outputs": [],
   "source": [
    "import pytz"
   ]
  },
  {
   "cell_type": "code",
   "execution_count": 138,
   "id": "9cc95041-cdfc-4725-8f7d-859e7b113aed",
   "metadata": {},
   "outputs": [
    {
     "data": {
      "text/plain": [
       "<DstTzInfo 'Turkey' LMT+1:56:00 STD>"
      ]
     },
     "execution_count": 138,
     "metadata": {},
     "output_type": "execute_result"
    }
   ],
   "source": [
    "pytz.timezone(\"Turkey\")"
   ]
  },
  {
   "cell_type": "code",
   "execution_count": 139,
   "id": "b46aa838-28d5-4b24-bdf0-8f0468311672",
   "metadata": {},
   "outputs": [
    {
     "data": {
      "text/plain": [
       "<DstTzInfo 'America/New_York' LMT-1 day, 19:04:00 STD>"
      ]
     },
     "execution_count": 139,
     "metadata": {},
     "output_type": "execute_result"
    }
   ],
   "source": [
    "pytz.timezone(\"America/New_York\")"
   ]
  },
  {
   "cell_type": "code",
   "execution_count": 141,
   "id": "f7a068cd-88ff-43c5-8d97-4638a5da6922",
   "metadata": {},
   "outputs": [
    {
     "data": {
      "text/plain": [
       "['US/Arizona',\n",
       " 'US/Central',\n",
       " 'US/Eastern',\n",
       " 'US/Hawaii',\n",
       " 'US/Mountain',\n",
       " 'US/Pacific',\n",
       " 'UTC']"
      ]
     },
     "execution_count": 141,
     "metadata": {},
     "output_type": "execute_result"
    }
   ],
   "source": [
    "pytz.common_timezones[-7:] # places that are seven hours behind the central time zone"
   ]
  },
  {
   "cell_type": "code",
   "execution_count": 143,
   "id": "d730952c-0823-4746-b9f9-131fb6f3769d",
   "metadata": {},
   "outputs": [
    {
     "data": {
      "text/plain": [
       "DatetimeIndex(['2019-12-09 09:30:00', '2019-12-10 09:30:00',\n",
       "               '2019-12-11 09:30:00', '2019-12-12 09:30:00',\n",
       "               '2019-12-13 09:30:00', '2019-12-14 09:30:00'],\n",
       "              dtype='datetime64[ns]', freq='D')"
      ]
     },
     "execution_count": 143,
     "metadata": {},
     "output_type": "execute_result"
    }
   ],
   "source": [
    "x = pd.date_range(start = \"12/9/2019 9:30\", periods= 6, freq= \"D\")\n",
    "ts = pd.Series(np.random.randn(len(x)), index = x)\n",
    "ts.index"
   ]
  },
  {
   "cell_type": "code",
   "execution_count": 144,
   "id": "4af0f91e-de45-4b39-8d41-b533b6123249",
   "metadata": {},
   "outputs": [
    {
     "name": "stdout",
     "output_type": "stream",
     "text": [
      "None\n"
     ]
    }
   ],
   "source": [
    "print(ts.index.tz)"
   ]
  },
  {
   "cell_type": "code",
   "execution_count": 145,
   "id": "4d462482-15a8-4c2d-a2d9-95fae4a5b665",
   "metadata": {},
   "outputs": [
    {
     "data": {
      "text/plain": [
       "2019-12-09 09:30:00+00:00   -0.576323\n",
       "2019-12-10 09:30:00+00:00   -0.627694\n",
       "2019-12-11 09:30:00+00:00    0.992370\n",
       "2019-12-12 09:30:00+00:00    0.476709\n",
       "2019-12-13 09:30:00+00:00   -0.068781\n",
       "2019-12-14 09:30:00+00:00    1.390469\n",
       "Freq: D, dtype: float64"
      ]
     },
     "execution_count": 145,
     "metadata": {},
     "output_type": "execute_result"
    }
   ],
   "source": [
    "ts_utc = ts.tz_localize(\"UTC\")\n",
    "ts_utc"
   ]
  },
  {
   "cell_type": "code",
   "execution_count": 147,
   "id": "285e940b-c734-4dc9-ba3d-65f2d502a5ca",
   "metadata": {},
   "outputs": [
    {
     "data": {
      "text/plain": [
       "2019-12-08 23:30:00-10:00   -0.576323\n",
       "2019-12-09 23:30:00-10:00   -0.627694\n",
       "2019-12-10 23:30:00-10:00    0.992370\n",
       "2019-12-11 23:30:00-10:00    0.476709\n",
       "2019-12-12 23:30:00-10:00   -0.068781\n",
       "2019-12-13 23:30:00-10:00    1.390469\n",
       "Freq: D, dtype: float64"
      ]
     },
     "execution_count": 147,
     "metadata": {},
     "output_type": "execute_result"
    }
   ],
   "source": [
    "ts_utc.tz_convert(\"US/Hawaii\")"
   ]
  },
  {
   "cell_type": "code",
   "execution_count": 148,
   "id": "dc3a48af-3888-4852-b722-3139e26f9742",
   "metadata": {},
   "outputs": [
    {
     "data": {
      "text/plain": [
       "Timestamp('2019-06-26 05:00:00')"
      ]
     },
     "execution_count": 148,
     "metadata": {},
     "output_type": "execute_result"
    }
   ],
   "source": [
    "tlabel = pd.Timestamp(\"2019-06-26 05:00\")\n",
    "tlabel"
   ]
  },
  {
   "cell_type": "code",
   "execution_count": 149,
   "id": "88189a58-a284-4849-be64-71d70b4ed548",
   "metadata": {},
   "outputs": [
    {
     "data": {
      "text/plain": [
       "Timestamp('2019-06-26 05:00:00+0000', tz='UTC')"
      ]
     },
     "execution_count": 149,
     "metadata": {},
     "output_type": "execute_result"
    }
   ],
   "source": [
    "tlabel_utc = tlabel.tz_localize(\"UTC\")\n",
    "tlabel_utc"
   ]
  },
  {
   "cell_type": "code",
   "execution_count": 152,
   "id": "0504c11e-e5ba-4e88-b1fe-2c6794c27ee3",
   "metadata": {},
   "outputs": [
    {
     "data": {
      "text/plain": [
       "Timestamp('2019-06-26 08:00:00+0300', tz='Europe/Istanbul')"
      ]
     },
     "execution_count": 152,
     "metadata": {},
     "output_type": "execute_result"
    }
   ],
   "source": [
    "tlabel_utc.tz_convert(\"Europe/Istanbul\")"
   ]
  },
  {
   "cell_type": "code",
   "execution_count": 154,
   "id": "68d76b54-268d-4345-bd25-93a3a78b741b",
   "metadata": {},
   "outputs": [
    {
     "data": {
      "text/plain": [
       "DatetimeIndex(['2019-12-09 08:30:00+00:00', '2019-12-10 08:30:00+00:00',\n",
       "               '2019-12-11 06:30:00+00:00', '2019-12-11 08:30:00+00:00',\n",
       "               '2019-12-12 06:30:00+00:00', '2019-12-12 08:30:00+00:00',\n",
       "               '2019-12-13 06:30:00+00:00', '2019-12-13 08:30:00+00:00',\n",
       "               '2019-12-14 06:30:00+00:00'],\n",
       "              dtype='datetime64[ns, UTC]', freq=None)"
      ]
     },
     "execution_count": 154,
     "metadata": {},
     "output_type": "execute_result"
    }
   ],
   "source": [
    "ts1 = ts[:5].tz_localize(\"Europe/Berlin\")\n",
    "ts2 = ts[2:].tz_localize(\"Europe/Istanbul\")\n",
    "result = ts1 + ts2\n",
    "result.index"
   ]
  },
  {
   "cell_type": "code",
   "execution_count": null,
   "id": "85a7e7fa-a3d6-4ef6-83c6-0efbf3e7752c",
   "metadata": {},
   "outputs": [],
   "source": []
  }
 ],
 "metadata": {
  "kernelspec": {
   "display_name": "Python 3 (ipykernel)",
   "language": "python",
   "name": "python3"
  },
  "language_info": {
   "codemirror_mode": {
    "name": "ipython",
    "version": 3
   },
   "file_extension": ".py",
   "mimetype": "text/x-python",
   "name": "python",
   "nbconvert_exporter": "python",
   "pygments_lexer": "ipython3",
   "version": "3.10.9"
  }
 },
 "nbformat": 4,
 "nbformat_minor": 5
}
